{
 "cells": [
  {
   "cell_type": "markdown",
   "id": "5f394f0c",
   "metadata": {},
   "source": [
    "# Float Concept Hands-on"
   ]
  },
  {
   "cell_type": "markdown",
   "id": "e24aaaa3",
   "metadata": {},
   "source": [
    "## Print sqaure in float"
   ]
  },
  {
   "cell_type": "code",
   "execution_count": 2,
   "id": "d63da35f",
   "metadata": {},
   "outputs": [
    {
     "name": "stdout",
     "output_type": "stream",
     "text": [
      "4.5\n",
      "Square: 20.25\n"
     ]
    }
   ],
   "source": [
    "square = float(input())\n",
    "print(\"Square:\", square**2)"
   ]
  },
  {
   "cell_type": "markdown",
   "id": "ba31389d",
   "metadata": {},
   "source": [
    "## Purchase Repair sale"
   ]
  },
  {
   "cell_type": "code",
   "execution_count": 1,
   "id": "589dae35",
   "metadata": {},
   "outputs": [
    {
     "name": "stdout",
     "output_type": "stream",
     "text": [
      "50.25\n",
      "1.5\n",
      "65\n",
      "13.25\n"
     ]
    }
   ],
   "source": [
    "purchase = float(input())\n",
    "repair= float(input())\n",
    "sold = float(input())\n",
    "t_cost= purchase + repair\n",
    "result = sold - t_cost\n",
    "print(result)"
   ]
  },
  {
   "cell_type": "markdown",
   "id": "0d1e3104",
   "metadata": {},
   "source": [
    "## Total Change in Price"
   ]
  },
  {
   "cell_type": "code",
   "execution_count": 9,
   "id": "273cef0f",
   "metadata": {},
   "outputs": [
    {
     "name": "stdout",
     "output_type": "stream",
     "text": [
      "Change 1: 0.5\n",
      "Change 2: -0.75\n",
      "-0.25\n"
     ]
    }
   ],
   "source": [
    "item1_23=50.25\n",
    "item1_24=40.50\n",
    "item2_23=50.75\n",
    "item2_24=39.75\n",
    "total_23= item2_23 - item1_23\n",
    "total_24= item2_24 - item1_24\n",
    "print(\"Change 1:\" , total_23)\n",
    "print('Change 2:', total_24)\n",
    "total = total_24 + total_23\n",
    "print(total)"
   ]
  },
  {
   "cell_type": "markdown",
   "id": "a27903d3",
   "metadata": {},
   "source": [
    "## Change per Year"
   ]
  },
  {
   "cell_type": "code",
   "execution_count": 12,
   "id": "d1427d20",
   "metadata": {},
   "outputs": [
    {
     "name": "stdout",
     "output_type": "stream",
     "text": [
      "Percentage second year: 20.0\n",
      "Percentage third year: 18.333333333333332\n"
     ]
    }
   ],
   "source": [
    "item1= 100\n",
    "item2 = 120\n",
    "item3 = 142\n",
    "percent1 = ((item2-item1)*100)/100\n",
    "print(\"Percentage second year:\", percent1)\n",
    "percent2 = ((item3-item2)*100)/120\n",
    "print(\"Percentage third year:\", percent2 )"
   ]
  },
  {
   "cell_type": "markdown",
   "id": "dbc4edb9",
   "metadata": {},
   "source": [
    "## Calculate Salary"
   ]
  },
  {
   "cell_type": "code",
   "execution_count": 15,
   "id": "36fcddaf",
   "metadata": {},
   "outputs": [
    {
     "name": "stdout",
     "output_type": "stream",
     "text": [
      "Net salary: 44175.0\n"
     ]
    }
   ],
   "source": [
    "House_rent = 30000 * 0.45\n",
    "Med_allowance = 30000*0.1\n",
    "Gross_salary = 30000 + House_rent + Med_allowance\n",
    "Provident_fund = Gross_salary *0.05\n",
    "Net_salary= Gross_salary - Provident_fund\n",
    "print('Net salary:', Net_salary)"
   ]
  },
  {
   "cell_type": "markdown",
   "id": "433fa2b0",
   "metadata": {},
   "source": [
    "## Academic Result"
   ]
  },
  {
   "cell_type": "code",
   "execution_count": 17,
   "id": "04a3c213",
   "metadata": {},
   "outputs": [
    {
     "name": "stdout",
     "output_type": "stream",
     "text": [
      "80\n",
      "90\n",
      "60\n",
      "84\n",
      "40\n",
      "90\n",
      "95\n",
      "70\n"
     ]
    }
   ],
   "source": [
    "x1= int(input())\n",
    "x2= int(input())\n",
    "x3= int(input())\n",
    "x4= int(input())\n",
    "x5= int(input())\n",
    "x6= int(input())\n",
    "x7= int(input())\n",
    "x8= int(input())\n",
    "total = x1+x2+x3+x4+x5+x6+x7+x8"
   ]
  },
  {
   "cell_type": "code",
   "execution_count": 18,
   "id": "cc43eae6",
   "metadata": {},
   "outputs": [
    {
     "name": "stdout",
     "output_type": "stream",
     "text": [
      "Eng: 80 100\n",
      "Urdu: 90 100\n",
      "Drawing: 60 75\n",
      "Math : 84 100\n",
      "Sci: 40 75\n",
      "SST: 90 100\n",
      "History : 95 100\n",
      "Phy.Edu: 70 100\n",
      "Total: 609\n"
     ]
    }
   ],
   "source": [
    "print('Eng:', x1, 100)\n",
    "print('Urdu:', x2, 100)\n",
    "print('Drawing:', x3,75)\n",
    "print('Math :', x4, 100)\n",
    "print('Sci:', x5, 75)\n",
    "print('SST:', x6,100)\n",
    "print('History :', x7, 100)\n",
    "print('Phy.Edu:', x8, 100)\n",
    "print('Total:', total)"
   ]
  },
  {
   "cell_type": "markdown",
   "id": "dd46d865",
   "metadata": {},
   "source": [
    "## Multi_line Input"
   ]
  },
  {
   "cell_type": "code",
   "execution_count": 22,
   "id": "a45aabb4",
   "metadata": {},
   "outputs": [
    {
     "name": "stdout",
     "output_type": "stream",
     "text": [
      "30 5 60\n"
     ]
    }
   ],
   "source": [
    "p1,p2,p3= map(int, input().split())"
   ]
  },
  {
   "cell_type": "code",
   "execution_count": 24,
   "id": "a7886b47",
   "metadata": {},
   "outputs": [
    {
     "name": "stdout",
     "output_type": "stream",
     "text": [
      "95\n"
     ]
    }
   ],
   "source": [
    "sum= p1+p2+p3 \n",
    "print(sum)"
   ]
  },
  {
   "cell_type": "markdown",
   "id": "3fc9a575",
   "metadata": {},
   "source": [
    "### Use star between output"
   ]
  },
  {
   "cell_type": "code",
   "execution_count": 35,
   "id": "5d55f425",
   "metadata": {},
   "outputs": [
    {
     "name": "stdout",
     "output_type": "stream",
     "text": [
      "6 8 5000\n"
     ]
    }
   ],
   "source": [
    "q1, q2, q3 = map(str, input().split())\n"
   ]
  },
  {
   "cell_type": "code",
   "execution_count": 34,
   "id": "7430a374",
   "metadata": {},
   "outputs": [
    {
     "data": {
      "text/plain": [
       "'6*8*5000'"
      ]
     },
     "execution_count": 34,
     "metadata": {},
     "output_type": "execute_result"
    }
   ],
   "source": [
    "result= str(q1)+'*'+str(q2)+'*'+str(q3)\n",
    "result"
   ]
  },
  {
   "cell_type": "code",
   "execution_count": 36,
   "id": "1c41ef11",
   "metadata": {},
   "outputs": [
    {
     "data": {
      "text/plain": [
       "'6*8*5000'"
      ]
     },
     "execution_count": 36,
     "metadata": {},
     "output_type": "execute_result"
    }
   ],
   "source": [
    "result= q1+'*'+q2+'*'+q3\n",
    "result"
   ]
  },
  {
   "cell_type": "markdown",
   "id": "11a3aa25",
   "metadata": {},
   "source": [
    "### Sum of reciporal"
   ]
  },
  {
   "cell_type": "code",
   "execution_count": null,
   "id": "d12155ed",
   "metadata": {},
   "outputs": [],
   "source": [
    "a= 1/5\n",
    "b= 1/8\n",
    "# sum of two numbers is numerator\n",
    "5+8=13\n",
    "# multiply of two numbers is denominator\n",
    "5*8=40"
   ]
  },
  {
   "cell_type": "markdown",
   "id": "c3f2b916",
   "metadata": {},
   "source": [
    "### Calculate sui gas bill"
   ]
  },
  {
   "cell_type": "code",
   "execution_count": 42,
   "id": "5b3ef170",
   "metadata": {},
   "outputs": [
    {
     "name": "stdout",
     "output_type": "stream",
     "text": [
      "220 22 200\n",
      "TOTAL BILL 5040\n"
     ]
    }
   ],
   "source": [
    "units, rates,fixed_charges = map(int,input().split())\n",
    "bill = (units*rates)+fixed_charges\n",
    "print('TOTAL BILL', bill)"
   ]
  },
  {
   "cell_type": "markdown",
   "id": "f61e45f4",
   "metadata": {},
   "source": [
    "### Sales Receipt"
   ]
  },
  {
   "cell_type": "code",
   "execution_count": 43,
   "id": "966a5dff",
   "metadata": {},
   "outputs": [
    {
     "name": "stdout",
     "output_type": "stream",
     "text": [
      "80 5 10\n",
      "120 3 5\n",
      "70 5 0\n"
     ]
    }
   ],
   "source": [
    "p1, q1, d1 = map(int, input().split())\n",
    "p2, q2, d2 = map(int, input().split())\n",
    "p3, q3, d3 = map(int, input().split())"
   ]
  },
  {
   "cell_type": "code",
   "execution_count": 50,
   "id": "83ea24d5",
   "metadata": {},
   "outputs": [
    {
     "name": "stdout",
     "output_type": "stream",
     "text": [
      "Item 1: 360.0\n",
      "Item 1: 342.0\n",
      "Item 1: 350\n",
      "Total amount: 1052.0\n",
      "Net amount 1030.96\n"
     ]
    }
   ],
   "source": [
    "discount1 = (p1*q1)*0.10\n",
    "item_1= (p1*q1)- discount1\n",
    "print('Item 1:',item_1)\n",
    "\n",
    "discount2 = (p2*q2)*0.05\n",
    "item_2= (p2*q2)- discount2\n",
    "print('Item 1:',item_2)\n",
    "\n",
    "discount3 = (p3*q3)*0\n",
    "item_3= (p3*q3)- discount3\n",
    "print('Item 1:',item_3)\n",
    "\n",
    "Total= item_1 + item_2 + item_3\n",
    "print('Total amount:', Total)\n",
    "\n",
    "Discount = Total*0.02\n",
    "Net_amount = Total-Discount\n",
    "print('Net amount', Net_amount)"
   ]
  },
  {
   "cell_type": "code",
   "execution_count": null,
   "id": "d9c22332",
   "metadata": {},
   "outputs": [],
   "source": []
  }
 ],
 "metadata": {
  "kernelspec": {
   "display_name": "Python 3 (ipykernel)",
   "language": "python",
   "name": "python3"
  },
  "language_info": {
   "codemirror_mode": {
    "name": "ipython",
    "version": 3
   },
   "file_extension": ".py",
   "mimetype": "text/x-python",
   "name": "python",
   "nbconvert_exporter": "python",
   "pygments_lexer": "ipython3",
   "version": "3.11.5"
  }
 },
 "nbformat": 4,
 "nbformat_minor": 5
}
