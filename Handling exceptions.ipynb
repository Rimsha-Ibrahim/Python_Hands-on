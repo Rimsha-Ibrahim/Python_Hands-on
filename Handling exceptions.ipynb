{
 "cells": [
  {
   "cell_type": "code",
   "execution_count": 4,
   "id": "76a82013",
   "metadata": {},
   "outputs": [],
   "source": [
    "import time"
   ]
  },
  {
   "cell_type": "code",
   "execution_count": 26,
   "id": "e5f80310",
   "metadata": {},
   "outputs": [
    {
     "ename": "ZeroDivisionError",
     "evalue": "division by zero",
     "output_type": "error",
     "traceback": [
      "\u001b[1;31m---------------------------------------------------------------------------\u001b[0m",
      "\u001b[1;31mZeroDivisionError\u001b[0m                         Traceback (most recent call last)",
      "Cell \u001b[1;32mIn[26], line 1\u001b[0m\n\u001b[1;32m----> 1\u001b[0m \u001b[38;5;241m1\u001b[39m\u001b[38;5;241m/\u001b[39m\u001b[38;5;241m0\u001b[39m\n",
      "\u001b[1;31mZeroDivisionError\u001b[0m: division by zero"
     ]
    }
   ],
   "source": [
    "1/0"
   ]
  },
  {
   "cell_type": "markdown",
   "id": "28505478",
   "metadata": {},
   "source": [
    "### Try/Except"
   ]
  },
  {
   "cell_type": "code",
   "execution_count": 13,
   "id": "0d9f8173",
   "metadata": {},
   "outputs": [
    {
     "name": "stdout",
     "output_type": "stream",
     "text": [
      "<class 'ZeroDivisionError'>\n"
     ]
    }
   ],
   "source": [
    "try:\n",
    "    1/0\n",
    "except Exception as e:\n",
    "    print(type(e))"
   ]
  },
  {
   "cell_type": "code",
   "execution_count": 2,
   "id": "d69fbee7",
   "metadata": {},
   "outputs": [
    {
     "name": "stdout",
     "output_type": "stream",
     "text": [
      "There is some sort of error\n"
     ]
    }
   ],
   "source": [
    "def causerror():\n",
    "    try:\n",
    "        1/0\n",
    "    except:\n",
    "        print(\"There is some sort of error\")\n",
    "causerror()\n",
    "    "
   ]
  },
  {
   "cell_type": "markdown",
   "id": "1e46a5b6",
   "metadata": {},
   "source": [
    "### Finally"
   ]
  },
  {
   "cell_type": "code",
   "execution_count": 3,
   "id": "5e3bbaef",
   "metadata": {},
   "outputs": [
    {
     "name": "stdout",
     "output_type": "stream",
     "text": [
      "There is some sort of error\n",
      "this will always include\n"
     ]
    }
   ],
   "source": [
    "try:\n",
    "    1/0\n",
    "except:\n",
    "    print(\"There is some sort of error\")\n",
    "finally:\n",
    "    print(\"this will always include\")"
   ]
  },
  {
   "cell_type": "code",
   "execution_count": 12,
   "id": "bf444dfb",
   "metadata": {},
   "outputs": [
    {
     "name": "stdout",
     "output_type": "stream",
     "text": [
      "There was some sort of error\n",
      "This takes 0.5017149448394775 seconds to execute\n"
     ]
    }
   ],
   "source": [
    "def causeerror():\n",
    "    start= time.time()\n",
    "    try:\n",
    "        time.sleep(0.5) # pausing time \n",
    "        return 1/0\n",
    "    except:\n",
    "        print(\"There was some sort of error\")\n",
    "    finally:\n",
    "        print(f\"This takes {time.time()-start} seconds to execute\")\n",
    "causeerror()"
   ]
  },
  {
   "cell_type": "markdown",
   "id": "0a695bcc",
   "metadata": {},
   "source": [
    "### Catching Exceptions by type"
   ]
  },
  {
   "cell_type": "code",
   "execution_count": 23,
   "id": "8b401364",
   "metadata": {},
   "outputs": [
    {
     "name": "stdout",
     "output_type": "stream",
     "text": [
      "There was an zero division error\n"
     ]
    }
   ],
   "source": [
    "try:\n",
    "    1/0\n",
    "except ZeroDivisionError:\n",
    "    print(\"There was an zero division error\")\n",
    "except Exception:\n",
    "    print('There is some sort of error')"
   ]
  },
  {
   "cell_type": "code",
   "execution_count": 24,
   "id": "378d0140",
   "metadata": {},
   "outputs": [
    {
     "name": "stdout",
     "output_type": "stream",
     "text": [
      "There was a type error.\n"
     ]
    }
   ],
   "source": [
    "try:\n",
    "    1 + 'a'\n",
    "except TypeError:                   # order of exceptions matters\n",
    "    print(\"There was a type error.\")\n",
    "except ZeroDivisionError:\n",
    "    print(\"There was an zero division error.\")\n",
    "except Exception:\n",
    "    print('There is some sort of error.')"
   ]
  },
  {
   "cell_type": "code",
   "execution_count": 28,
   "id": "0c160345",
   "metadata": {},
   "outputs": [
    {
     "name": "stdout",
     "output_type": "stream",
     "text": [
      "There was a type error.\n"
     ]
    }
   ],
   "source": [
    "try:\n",
    "    1 + 'a'\n",
    "except ZeroDivisionError:\n",
    "    print(\"There was an zero division error.\")\n",
    "except TypeError:                             # order of exceptions matters\n",
    "    print(\"There was a type error.\")\n",
    "except Exception:\n",
    "    print('There is some sort of error.')"
   ]
  },
  {
   "cell_type": "code",
   "execution_count": 29,
   "id": "cde9b65c",
   "metadata": {},
   "outputs": [],
   "source": [
    "## to solve this order problem we make an decorator because in real scenarios we dont know which specific error has raised. "
   ]
  },
  {
   "cell_type": "markdown",
   "id": "62d232ae",
   "metadata": {},
   "source": [
    "### Custom Decoradors"
   ]
  },
  {
   "cell_type": "code",
   "execution_count": 34,
   "id": "1267dfdd",
   "metadata": {},
   "outputs": [
    {
     "name": "stdout",
     "output_type": "stream",
     "text": [
      "There was a type error.\n"
     ]
    }
   ],
   "source": [
    "def HandleException(func):\n",
    "    def wrapper():\n",
    "        try:\n",
    "            func()\n",
    "        except ZeroDivisionError:\n",
    "            print(\"There was an zero division error.\")\n",
    "        except TypeError:                              \n",
    "            print(\"There was a type error.\")\n",
    "        except Exception:\n",
    "            print('There is some sort of error.')\n",
    "    return wrapper\n",
    "@HandleException\n",
    "def causerror():\n",
    "    return 1 + 'a'\n",
    "causerror()"
   ]
  },
  {
   "cell_type": "markdown",
   "id": "772cc8a2",
   "metadata": {},
   "source": [
    "### Raising Exceptions"
   ]
  },
  {
   "cell_type": "code",
   "execution_count": 37,
   "id": "04a47e41",
   "metadata": {},
   "outputs": [
    {
     "name": "stdout",
     "output_type": "stream",
     "text": [
      "There is some sort of error.\n"
     ]
    }
   ],
   "source": [
    "def HandleException(func):\n",
    "    def wrapper(*arg):\n",
    "        try:\n",
    "            func(*arg)\n",
    "        except ZeroDivisionError:\n",
    "            print(\"There was an zero division error.\")\n",
    "        except TypeError:                              \n",
    "            print(\"There was a type error.\")\n",
    "        except Exception:\n",
    "            print('There is some sort of error.')\n",
    "    return wrapper\n",
    "@HandleException\n",
    "def raiseException(n):\n",
    "    if n == 0:\n",
    "        raise Exception()\n",
    "    print(n)  \n",
    "raiseException(0)"
   ]
  }
 ],
 "metadata": {
  "kernelspec": {
   "display_name": "Python 3 (ipykernel)",
   "language": "python",
   "name": "python3"
  },
  "language_info": {
   "codemirror_mode": {
    "name": "ipython",
    "version": 3
   },
   "file_extension": ".py",
   "mimetype": "text/x-python",
   "name": "python",
   "nbconvert_exporter": "python",
   "pygments_lexer": "ipython3",
   "version": "3.11.5"
  }
 },
 "nbformat": 4,
 "nbformat_minor": 5
}
