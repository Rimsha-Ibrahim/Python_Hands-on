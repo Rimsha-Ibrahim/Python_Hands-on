{
 "cells": [
  {
   "cell_type": "markdown",
   "id": "5998374e",
   "metadata": {},
   "source": [
    "### divisible by 3 or 5"
   ]
  },
  {
   "cell_type": "code",
   "execution_count": 6,
   "id": "2f01a246",
   "metadata": {},
   "outputs": [
    {
     "name": "stdout",
     "output_type": "stream",
     "text": [
      "3\n",
      "Yes\n"
     ]
    }
   ],
   "source": [
    "n = int(input())\n",
    "if n%3==0 or n%5==0:\n",
    "    print('Yes')\n",
    "else:\n",
    "    print('No')"
   ]
  },
  {
   "cell_type": "markdown",
   "id": "7a7db64e",
   "metadata": {},
   "source": [
    "### divisible by 7"
   ]
  },
  {
   "cell_type": "code",
   "execution_count": 11,
   "id": "a2cf82e2",
   "metadata": {},
   "outputs": [
    {
     "name": "stdout",
     "output_type": "stream",
     "text": [
      "7\n",
      "14\n",
      "21\n",
      "28\n",
      "35\n",
      "42\n",
      "49\n",
      "56\n",
      "63\n",
      "70\n",
      "77\n",
      "84\n",
      "91\n",
      "98\n"
     ]
    }
   ],
   "source": [
    "i = 1\n",
    "while i <=100:\n",
    "    if i % 7==0:\n",
    "        print(i)\n",
    "    i+=1"
   ]
  },
  {
   "cell_type": "markdown",
   "id": "c55bb0a1",
   "metadata": {},
   "source": [
    "### Print only vowels"
   ]
  },
  {
   "cell_type": "code",
   "execution_count": 16,
   "id": "2f8c7582",
   "metadata": {},
   "outputs": [
    {
     "name": "stdout",
     "output_type": "stream",
     "text": [
      "a\n",
      "vowels\n"
     ]
    }
   ],
   "source": [
    "list = ['a','e','i','o','u']\n",
    "c =input().lower()\n",
    "if c in list:\n",
    "    print('vowels')\n",
    "else:\n",
    "    print('consonants')"
   ]
  },
  {
   "cell_type": "markdown",
   "id": "e949c9ec",
   "metadata": {},
   "source": [
    "### Print Highest number"
   ]
  },
  {
   "cell_type": "code",
   "execution_count": 17,
   "id": "8c7f6f08",
   "metadata": {},
   "outputs": [
    {
     "name": "stdout",
     "output_type": "stream",
     "text": [
      "3\n",
      "4\n",
      "2\n",
      "4\n"
     ]
    }
   ],
   "source": [
    "a=int(input())\n",
    "b=int(input())\n",
    "c=int(input())\n",
    "if a>b and a>c:\n",
    "    print(a)\n",
    "elif b>a and b>c:\n",
    "    print(b)\n",
    "else:\n",
    "    print(c)"
   ]
  },
  {
   "cell_type": "markdown",
   "id": "71e99c77",
   "metadata": {},
   "source": [
    "### Reverse the string"
   ]
  },
  {
   "cell_type": "code",
   "execution_count": 20,
   "id": "aa4ecfe9",
   "metadata": {},
   "outputs": [
    {
     "name": "stdout",
     "output_type": "stream",
     "text": [
      "rimsha\n",
      "ahsmir\n"
     ]
    }
   ],
   "source": [
    "string = input()\n",
    "reversed= string[::-1]\n",
    "print(reversed)"
   ]
  },
  {
   "cell_type": "code",
   "execution_count": 24,
   "id": "9fd1e0b4",
   "metadata": {},
   "outputs": [
    {
     "name": "stdout",
     "output_type": "stream",
     "text": [
      "Enter a string: rimsha\n",
      "Reversed string: ahsmir\n"
     ]
    }
   ],
   "source": [
    "string = input(\"Enter a string: \")\n",
    "rstring = \"\"\n",
    "\n",
    "for char in string:\n",
    "    rstring = char + rstring\n",
    "\n",
    "print(\"Reversed string:\", rstring)\n"
   ]
  },
  {
   "cell_type": "code",
   "execution_count": 27,
   "id": "8b4e13ca",
   "metadata": {},
   "outputs": [
    {
     "name": "stdout",
     "output_type": "stream",
     "text": [
      "world\n",
      "dlrow\n"
     ]
    }
   ],
   "source": [
    "string = input()\n",
    "r_string=\"\"\n",
    "for s in string:\n",
    "    r_string =s+r_string \n",
    "print(r_string)    "
   ]
  },
  {
   "cell_type": "markdown",
   "id": "197f7cd5",
   "metadata": {},
   "source": [
    "### Print given sequence"
   ]
  },
  {
   "cell_type": "code",
   "execution_count": 37,
   "id": "adf0fbd7",
   "metadata": {},
   "outputs": [
    {
     "name": "stdout",
     "output_type": "stream",
     "text": [
      "rimsha\n",
      "rimsha\n"
     ]
    }
   ],
   "source": [
    "string = input()\n",
    "r_string = \"\"\n",
    "for s in string:\n",
    "    r_string += s\n",
    "print(r_string)"
   ]
  },
  {
   "cell_type": "markdown",
   "id": "d27c35b1",
   "metadata": {},
   "source": [
    "### Assign multiple values to multiple variables in one statement"
   ]
  },
  {
   "cell_type": "code",
   "execution_count": 38,
   "id": "bb67b944",
   "metadata": {},
   "outputs": [
    {
     "name": "stdout",
     "output_type": "stream",
     "text": [
      "3 4.5 Hello\n"
     ]
    }
   ],
   "source": [
    "a,b,c = 3, 4.5, \"Hello\"\n",
    "print(a,b,c)"
   ]
  },
  {
   "cell_type": "markdown",
   "id": "d17f51ad",
   "metadata": {},
   "source": [
    "### ID of a variable"
   ]
  },
  {
   "cell_type": "code",
   "execution_count": 39,
   "id": "084338d2",
   "metadata": {},
   "outputs": [
    {
     "data": {
      "text/plain": [
       "(140716127531080, 2405694830864)"
      ]
     },
     "execution_count": 39,
     "metadata": {},
     "output_type": "execute_result"
    }
   ],
   "source": [
    "x = 234\n",
    "y = 1.234\n",
    "id(x), id(y)"
   ]
  },
  {
   "cell_type": "code",
   "execution_count": 40,
   "id": "f65bc289",
   "metadata": {},
   "outputs": [
    {
     "data": {
      "text/plain": [
       "(140716127523912, 140716127523912)"
      ]
     },
     "execution_count": 40,
     "metadata": {},
     "output_type": "execute_result"
    }
   ],
   "source": [
    "a = 10\n",
    "b = 10\n",
    "id(a), id(b)"
   ]
  },
  {
   "cell_type": "markdown",
   "id": "159a554a",
   "metadata": {},
   "source": [
    "### Large number in list"
   ]
  },
  {
   "cell_type": "code",
   "execution_count": 44,
   "id": "936b1d5c",
   "metadata": {},
   "outputs": [
    {
     "name": "stdout",
     "output_type": "stream",
     "text": [
      "5\n"
     ]
    }
   ],
   "source": [
    "list = [2,3,5,0,1]\n",
    "large = list[0]\n",
    "for i in list:\n",
    "    if i > large:\n",
    "        large=i\n",
    "print(large)"
   ]
  },
  {
   "cell_type": "markdown",
   "id": "792868ab",
   "metadata": {},
   "source": [
    "### Sum of all list numbers"
   ]
  },
  {
   "cell_type": "code",
   "execution_count": 45,
   "id": "2c8cf706",
   "metadata": {},
   "outputs": [
    {
     "name": "stdout",
     "output_type": "stream",
     "text": [
      "11\n"
     ]
    }
   ],
   "source": [
    "list = [2,3,5,0,1]\n",
    "total = 0\n",
    "for i in list:\n",
    "    total +=i\n",
    "print(total)"
   ]
  },
  {
   "cell_type": "markdown",
   "id": "cd57a914",
   "metadata": {},
   "source": [
    "### Descending order"
   ]
  },
  {
   "cell_type": "code",
   "execution_count": 48,
   "id": "9b1e8d5c",
   "metadata": {},
   "outputs": [
    {
     "name": "stdout",
     "output_type": "stream",
     "text": [
      "[5, 3, 2, 1, 0]\n"
     ]
    }
   ],
   "source": [
    "list = [2,3,5,0,1]\n",
    "for i in range(len(list)):\n",
    "    for j in range(len(list)- i -1):\n",
    "        if list[j] < list[j +1]:\n",
    "            list[j],list[j+1]= list[j+1], list[j]\n",
    "print(list)"
   ]
  },
  {
   "cell_type": "markdown",
   "id": "8e37f843",
   "metadata": {},
   "source": [
    "### Count of positive numbers in a list"
   ]
  },
  {
   "cell_type": "code",
   "execution_count": 53,
   "id": "7f88a11c",
   "metadata": {},
   "outputs": [
    {
     "name": "stdout",
     "output_type": "stream",
     "text": [
      "2\n"
     ]
    }
   ],
   "source": [
    "list = [2,-3,-4,5]\n",
    "count=0\n",
    "for i in list:\n",
    "    if i > 0:\n",
    "        count+=1\n",
    "print(count)"
   ]
  },
  {
   "cell_type": "code",
   "execution_count": 56,
   "id": "3caf28dd",
   "metadata": {},
   "outputs": [
    {
     "name": "stdout",
     "output_type": "stream",
     "text": [
      "2 3 -4 5 -6\n",
      "3\n"
     ]
    }
   ],
   "source": [
    "list = input().split()\n",
    "count=0\n",
    "for i in list:\n",
    "    if int(i) > 0:\n",
    "        count+=1\n",
    "print(count)"
   ]
  },
  {
   "cell_type": "code",
   "execution_count": 58,
   "id": "1fcb7bab",
   "metadata": {},
   "outputs": [
    {
     "name": "stdout",
     "output_type": "stream",
     "text": [
      "[2, 2, 3, 1]\n"
     ]
    }
   ],
   "source": [
    "list = [2,2,3,1]\n",
    "for i in range(len(list)):\n",
    "    for j in range(len(list),i-1):\n",
    "        if list[j]==list[j+1]:\n",
    "            list[j],list[j+1]= list[j]\n",
    "print(list)"
   ]
  },
  {
   "cell_type": "markdown",
   "id": "6b4419a4",
   "metadata": {},
   "source": [
    "### Remove Duplications"
   ]
  },
  {
   "cell_type": "code",
   "execution_count": 62,
   "id": "4dc2592b",
   "metadata": {},
   "outputs": [
    {
     "name": "stdout",
     "output_type": "stream",
     "text": [
      "[2, 3, 4, 1]\n"
     ]
    }
   ],
   "source": [
    "list = [2,3,4,2,3,1]\n",
    "unique= []\n",
    "for i in list:\n",
    "    if i not in unique:\n",
    "        unique.append(i)\n",
    "print(unique)"
   ]
  },
  {
   "cell_type": "code",
   "execution_count": null,
   "id": "46ecf960",
   "metadata": {},
   "outputs": [],
   "source": []
  }
 ],
 "metadata": {
  "kernelspec": {
   "display_name": "Python 3 (ipykernel)",
   "language": "python",
   "name": "python3"
  },
  "language_info": {
   "codemirror_mode": {
    "name": "ipython",
    "version": 3
   },
   "file_extension": ".py",
   "mimetype": "text/x-python",
   "name": "python",
   "nbconvert_exporter": "python",
   "pygments_lexer": "ipython3",
   "version": "3.11.5"
  }
 },
 "nbformat": 4,
 "nbformat_minor": 5
}
