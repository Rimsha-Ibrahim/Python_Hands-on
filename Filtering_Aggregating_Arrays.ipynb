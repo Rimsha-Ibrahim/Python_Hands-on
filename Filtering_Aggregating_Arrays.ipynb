{
 "cells": [
  {
   "cell_type": "markdown",
   "id": "f45fdca8",
   "metadata": {},
   "source": [
    "### Topic discussed\n",
    "1. Filtering arrays\n",
    "2. Aggregating arrays"
   ]
  },
  {
   "cell_type": "markdown",
   "id": "a3c542a5",
   "metadata": {},
   "source": [
    "### Filtering Arrays"
   ]
  },
  {
   "cell_type": "code",
   "execution_count": 15,
   "id": "4f6bb8e2",
   "metadata": {},
   "outputs": [
    {
     "data": {
      "text/plain": [
       "array(['rare tomato', 'gourmet ice-cream'], dtype='<U17')"
      ]
     },
     "execution_count": 15,
     "metadata": {},
     "output_type": "execute_result"
    }
   ],
   "source": [
    "#Filter the product array to only include with price greater than 25.\n",
    "import numpy as np\n",
    "prices= np.array([5.99,6.99,22.49,99.99,4.99,49.99])\n",
    "product= np.array(['salad','bread','mustard','rare tomato','cola','gourmet ice-cream'])\n",
    "product[prices > 25]"
   ]
  },
  {
   "cell_type": "code",
   "execution_count": 12,
   "id": "48ec16f9",
   "metadata": {},
   "outputs": [
    {
     "data": {
      "text/plain": [
       "array([False, False, False,  True,  True,  True])"
      ]
     },
     "execution_count": 12,
     "metadata": {},
     "output_type": "execute_result"
    }
   ],
   "source": [
    "mask = (prices > 25) | (product == 'cola')\n",
    "mask"
   ]
  },
  {
   "cell_type": "code",
   "execution_count": 14,
   "id": "8bc7759e",
   "metadata": {},
   "outputs": [
    {
     "data": {
      "text/plain": [
       "array(['rare tomato', 'cola', 'gourmet ice-cream'], dtype='<U17')"
      ]
     },
     "execution_count": 14,
     "metadata": {},
     "output_type": "execute_result"
    }
   ],
   "source": [
    "# include cola in your array. and name as fancy feast special.\n",
    "fancy_feast_special = product[mask]\n",
    "fancy_feast_special"
   ]
  },
  {
   "cell_type": "code",
   "execution_count": 19,
   "id": "556573f5",
   "metadata": {},
   "outputs": [
    {
     "data": {
      "text/plain": [
       "array([5, 5, 0, 0, 5, 0])"
      ]
     },
     "execution_count": 19,
     "metadata": {},
     "output_type": "execute_result"
    }
   ],
   "source": [
    "# Next, create a shipping cost array where the cost is 0 when price is > 20 and 5 if not.\n",
    "shipping_cost = np.where(prices > 20, 0,5)\n",
    "shipping_cost"
   ]
  },
  {
   "cell_type": "markdown",
   "id": "1e732305",
   "metadata": {},
   "source": [
    "### Aggregating arrays"
   ]
  },
  {
   "cell_type": "code",
   "execution_count": 26,
   "id": "77d542de",
   "metadata": {},
   "outputs": [
    {
     "data": {
      "text/plain": [
       "array([3.97, 8.66, 4.6 , 3.06, 5.74, 0.89, 8.82, 7.32, 7.32, 5.62])"
      ]
     },
     "execution_count": 26,
     "metadata": {},
     "output_type": "execute_result"
    }
   ],
   "source": [
    "# generate two random arrays\n",
    "from numpy.random import default_rng\n",
    "rng = np.random.default_rng(616)\n",
    "prices = (rng.random(10)*10).round(2)\n",
    "prices"
   ]
  },
  {
   "cell_type": "code",
   "execution_count": 28,
   "id": "170b44a8",
   "metadata": {},
   "outputs": [
    {
     "data": {
      "text/plain": [
       "array([94, 10, 27, 52, 15, 80, 90,  7, 32, 15], dtype=int64)"
      ]
     },
     "execution_count": 28,
     "metadata": {},
     "output_type": "execute_result"
    }
   ],
   "source": [
    "inventory = rng.integers(0,100,10)\n",
    "inventory"
   ]
  },
  {
   "cell_type": "code",
   "execution_count": 38,
   "id": "66dfb68b",
   "metadata": {},
   "outputs": [
    {
     "data": {
      "text/plain": [
       "56.0"
      ]
     },
     "execution_count": 38,
     "metadata": {},
     "output_type": "execute_result"
    }
   ],
   "source": [
    "(prices.sum(axis=0)).round(2)"
   ]
  },
  {
   "cell_type": "code",
   "execution_count": 40,
   "id": "811c9b51",
   "metadata": {},
   "outputs": [
    {
     "data": {
      "text/plain": [
       "array([[3.97, 8.66],\n",
       "       [4.6 , 3.06],\n",
       "       [5.74, 0.89],\n",
       "       [8.82, 7.32],\n",
       "       [7.32, 5.62]])"
      ]
     },
     "execution_count": 40,
     "metadata": {},
     "output_type": "execute_result"
    }
   ],
   "source": [
    "# convert into 2d array\n",
    "prices_2d= prices.reshape(5,2)\n",
    "prices_2d"
   ]
  },
  {
   "cell_type": "markdown",
   "id": "7f1003ee",
   "metadata": {},
   "source": [
    "#### Find sum, max,min,sort, median,percentile,unique."
   ]
  },
  {
   "cell_type": "code",
   "execution_count": 44,
   "id": "a44f15ab",
   "metadata": {},
   "outputs": [
    {
     "data": {
      "text/plain": [
       "array([8.82, 8.66])"
      ]
     },
     "execution_count": 44,
     "metadata": {},
     "output_type": "execute_result"
    }
   ],
   "source": [
    "prices_2d.max(axis=0)"
   ]
  },
  {
   "cell_type": "code",
   "execution_count": 46,
   "id": "bb0c506d",
   "metadata": {},
   "outputs": [
    {
     "data": {
      "text/plain": [
       "2063.98"
      ]
     },
     "execution_count": 46,
     "metadata": {},
     "output_type": "execute_result"
    }
   ],
   "source": [
    "(prices*inventory).sum()"
   ]
  },
  {
   "cell_type": "code",
   "execution_count": 48,
   "id": "c479909c",
   "metadata": {},
   "outputs": [
    {
     "data": {
      "text/plain": [
       "56.0"
      ]
     },
     "execution_count": 48,
     "metadata": {},
     "output_type": "execute_result"
    }
   ],
   "source": [
    "prices.sum()"
   ]
  },
  {
   "cell_type": "code",
   "execution_count": 49,
   "id": "d33ddefd",
   "metadata": {},
   "outputs": [
    {
     "data": {
      "text/plain": [
       "422"
      ]
     },
     "execution_count": 49,
     "metadata": {},
     "output_type": "execute_result"
    }
   ],
   "source": [
    "inventory.sum()"
   ]
  },
  {
   "cell_type": "code",
   "execution_count": 51,
   "id": "967dc1dc",
   "metadata": {},
   "outputs": [
    {
     "data": {
      "text/plain": [
       "array([373.18,  86.6 , 124.2 , 159.12,  86.1 ,  71.2 , 793.8 ,  51.24,\n",
       "       234.24,  84.3 ])"
      ]
     },
     "execution_count": 51,
     "metadata": {},
     "output_type": "execute_result"
    }
   ],
   "source": [
    "product = (prices*inventory)\n",
    "product"
   ]
  },
  {
   "cell_type": "code",
   "execution_count": 52,
   "id": "54e7e7c1",
   "metadata": {},
   "outputs": [
    {
     "data": {
      "text/plain": [
       "array([[373.18,  86.6 , 124.2 , 159.12,  86.1 ],\n",
       "       [ 71.2 , 793.8 ,  51.24, 234.24,  84.3 ]])"
      ]
     },
     "execution_count": 52,
     "metadata": {},
     "output_type": "execute_result"
    }
   ],
   "source": [
    "product.reshape(2,5)"
   ]
  },
  {
   "cell_type": "code",
   "execution_count": 53,
   "id": "42306114",
   "metadata": {},
   "outputs": [
    {
     "data": {
      "text/plain": [
       "array([ 51.24,  71.2 ,  84.3 ,  86.1 ,  86.6 , 124.2 , 159.12, 234.24,\n",
       "       373.18, 793.8 ])"
      ]
     },
     "execution_count": 53,
     "metadata": {},
     "output_type": "execute_result"
    }
   ],
   "source": [
    "np.sort(product)"
   ]
  },
  {
   "cell_type": "code",
   "execution_count": 54,
   "id": "24cf254d",
   "metadata": {},
   "outputs": [
    {
     "data": {
      "text/plain": [
       "105.39999999999999"
      ]
     },
     "execution_count": 54,
     "metadata": {},
     "output_type": "execute_result"
    }
   ],
   "source": [
    "np.median(product)"
   ]
  },
  {
   "cell_type": "code",
   "execution_count": 58,
   "id": "d4d8a9ae",
   "metadata": {},
   "outputs": [
    {
     "data": {
      "text/plain": [
       "415.24199999999985"
      ]
     },
     "execution_count": 58,
     "metadata": {},
     "output_type": "execute_result"
    }
   ],
   "source": [
    "np.percentile(product, 90)"
   ]
  },
  {
   "cell_type": "code",
   "execution_count": 59,
   "id": "6f809b87",
   "metadata": {},
   "outputs": [
    {
     "data": {
      "text/plain": [
       "array([1.])"
      ]
     },
     "execution_count": 59,
     "metadata": {},
     "output_type": "execute_result"
    }
   ],
   "source": [
    "np.unique(np.ones(100))"
   ]
  },
  {
   "cell_type": "code",
   "execution_count": 62,
   "id": "5f5aa0d2",
   "metadata": {},
   "outputs": [
    {
     "data": {
      "text/plain": [
       "array([ 51.24,  71.2 ,  84.3 ,  86.1 ,  86.6 , 124.2 , 159.12, 234.24,\n",
       "       373.18, 793.8 ])"
      ]
     },
     "execution_count": 62,
     "metadata": {},
     "output_type": "execute_result"
    }
   ],
   "source": [
    "np.sort(product)"
   ]
  },
  {
   "cell_type": "code",
   "execution_count": 65,
   "id": "0ec17684",
   "metadata": {},
   "outputs": [],
   "source": [
    "product.sort()"
   ]
  },
  {
   "cell_type": "code",
   "execution_count": 66,
   "id": "ba562cdb",
   "metadata": {},
   "outputs": [
    {
     "data": {
      "text/plain": [
       "array([ 51.24,  71.2 ,  84.3 ,  86.1 ,  86.6 , 124.2 , 159.12, 234.24,\n",
       "       373.18, 793.8 ])"
      ]
     },
     "execution_count": 66,
     "metadata": {},
     "output_type": "execute_result"
    }
   ],
   "source": [
    "product"
   ]
  },
  {
   "cell_type": "code",
   "execution_count": 69,
   "id": "fe92d49f",
   "metadata": {},
   "outputs": [
    {
     "data": {
      "text/plain": [
       "array([793.8 , 373.18, 234.24, 159.12, 124.2 ,  86.6 ,  86.1 ,  84.3 ,\n",
       "        71.2 ,  51.24])"
      ]
     },
     "execution_count": 69,
     "metadata": {},
     "output_type": "execute_result"
    }
   ],
   "source": [
    "product[::-1]"
   ]
  },
  {
   "cell_type": "code",
   "execution_count": 76,
   "id": "19083193",
   "metadata": {},
   "outputs": [
    {
     "data": {
      "text/plain": [
       "array([ 4.99,  5.99,  6.99, 22.49, 49.99, 99.99])"
      ]
     },
     "execution_count": 76,
     "metadata": {},
     "output_type": "execute_result"
    }
   ],
   "source": [
    "# first grab the first 3 items from list\n",
    "prices= np.array([5.99,6.99,22.49,99.99,4.99,49.99])\n",
    "sort=np.sort(prices)\n",
    "sort"
   ]
  },
  {
   "cell_type": "code",
   "execution_count": 78,
   "id": "5fc6b70f",
   "metadata": {},
   "outputs": [
    {
     "data": {
      "text/plain": [
       "array([22.49, 49.99, 99.99])"
      ]
     },
     "execution_count": 78,
     "metadata": {},
     "output_type": "execute_result"
    }
   ],
   "source": [
    "top3= sort[3:]\n",
    "top3"
   ]
  },
  {
   "cell_type": "code",
   "execution_count": 79,
   "id": "2e3fd2cf",
   "metadata": {},
   "outputs": [
    {
     "data": {
      "text/plain": [
       "57.49"
      ]
     },
     "execution_count": 79,
     "metadata": {},
     "output_type": "execute_result"
    }
   ],
   "source": [
    "top3.mean()"
   ]
  },
  {
   "cell_type": "code",
   "execution_count": 80,
   "id": "842114dc",
   "metadata": {},
   "outputs": [
    {
     "data": {
      "text/plain": [
       "99.99"
      ]
     },
     "execution_count": 80,
     "metadata": {},
     "output_type": "execute_result"
    }
   ],
   "source": [
    "top3.max()"
   ]
  },
  {
   "cell_type": "code",
   "execution_count": 81,
   "id": "9f21eb58",
   "metadata": {},
   "outputs": [
    {
     "data": {
      "text/plain": [
       "22.49"
      ]
     },
     "execution_count": 81,
     "metadata": {},
     "output_type": "execute_result"
    }
   ],
   "source": [
    "top3.min()"
   ]
  },
  {
   "cell_type": "code",
   "execution_count": 83,
   "id": "81130f96",
   "metadata": {},
   "outputs": [
    {
     "data": {
      "text/plain": [
       "49.99"
      ]
     },
     "execution_count": 83,
     "metadata": {},
     "output_type": "execute_result"
    }
   ],
   "source": [
    "np.median(top3)"
   ]
  },
  {
   "cell_type": "code",
   "execution_count": 84,
   "id": "68ebed4b",
   "metadata": {},
   "outputs": [
    {
     "data": {
      "text/plain": [
       "array([ 4.99,  5.99,  6.99, 22.49, 49.99, 99.99])"
      ]
     },
     "execution_count": 84,
     "metadata": {},
     "output_type": "execute_result"
    }
   ],
   "source": [
    "np.unique(prices)"
   ]
  },
  {
   "cell_type": "code",
   "execution_count": null,
   "id": "bea54999",
   "metadata": {},
   "outputs": [],
   "source": []
  }
 ],
 "metadata": {
  "kernelspec": {
   "display_name": "Python 3 (ipykernel)",
   "language": "python",
   "name": "python3"
  },
  "language_info": {
   "codemirror_mode": {
    "name": "ipython",
    "version": 3
   },
   "file_extension": ".py",
   "mimetype": "text/x-python",
   "name": "python",
   "nbconvert_exporter": "python",
   "pygments_lexer": "ipython3",
   "version": "3.11.5"
  }
 },
 "nbformat": 4,
 "nbformat_minor": 5
}
