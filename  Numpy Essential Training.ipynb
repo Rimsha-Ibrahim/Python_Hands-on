{
 "cells": [
  {
   "cell_type": "markdown",
   "id": "e8d7a64b",
   "metadata": {},
   "source": [
    "### Array types and conversion between types"
   ]
  },
  {
   "cell_type": "code",
   "execution_count": 1,
   "id": "1299c8b4",
   "metadata": {},
   "outputs": [],
   "source": [
    "import numpy as np"
   ]
  },
  {
   "cell_type": "code",
   "execution_count": 2,
   "id": "6bfe41b5",
   "metadata": {},
   "outputs": [
    {
     "name": "stdout",
     "output_type": "stream",
     "text": [
      "[1 2 3 4 5]\n"
     ]
    }
   ],
   "source": [
    "integers = np.array([1,2,3,4,5])\n",
    "print(integers)"
   ]
  },
  {
   "cell_type": "code",
   "execution_count": 3,
   "id": "d6c6197b",
   "metadata": {},
   "outputs": [
    {
     "data": {
      "text/plain": [
       "1"
      ]
     },
     "execution_count": 3,
     "metadata": {},
     "output_type": "execute_result"
    }
   ],
   "source": [
    "integers[0]"
   ]
  },
  {
   "cell_type": "code",
   "execution_count": 5,
   "id": "9c06e2cc",
   "metadata": {},
   "outputs": [
    {
     "data": {
      "text/plain": [
       "array([2, 2, 3, 4, 5])"
      ]
     },
     "execution_count": 5,
     "metadata": {},
     "output_type": "execute_result"
    }
   ],
   "source": [
    "integers[0]=2\n",
    "integers"
   ]
  },
  {
   "cell_type": "code",
   "execution_count": 6,
   "id": "c9769623",
   "metadata": {},
   "outputs": [
    {
     "data": {
      "text/plain": [
       "dtype('int32')"
      ]
     },
     "execution_count": 6,
     "metadata": {},
     "output_type": "execute_result"
    }
   ],
   "source": [
    "integers.dtype"
   ]
  },
  {
   "cell_type": "code",
   "execution_count": 10,
   "id": "338c5272",
   "metadata": {},
   "outputs": [
    {
     "data": {
      "text/plain": [
       "array([2, 2, 3, 4, 5], dtype=int8)"
      ]
     },
     "execution_count": 10,
     "metadata": {},
     "output_type": "execute_result"
    }
   ],
   "source": [
    "smallintegers= np.array(integers, dtype=np.int8)\n",
    "smallintegers"
   ]
  },
  {
   "cell_type": "code",
   "execution_count": 11,
   "id": "9f6a1edc",
   "metadata": {},
   "outputs": [
    {
     "data": {
      "text/plain": [
       "dtype('int8')"
      ]
     },
     "execution_count": 11,
     "metadata": {},
     "output_type": "execute_result"
    }
   ],
   "source": [
    "smallintegers.dtype"
   ]
  },
  {
   "cell_type": "code",
   "execution_count": 12,
   "id": "683714da",
   "metadata": {},
   "outputs": [
    {
     "data": {
      "text/plain": [
       "dtype('float64')"
      ]
     },
     "execution_count": 12,
     "metadata": {},
     "output_type": "execute_result"
    }
   ],
   "source": [
    "floats = np.array([1.1,1.2,1.3,1.4])\n",
    "floats.dtype"
   ]
  },
  {
   "cell_type": "markdown",
   "id": "35f319f0",
   "metadata": {},
   "source": [
    "### Multidimension Arrays"
   ]
  },
  {
   "cell_type": "code",
   "execution_count": 14,
   "id": "3d286ca3",
   "metadata": {},
   "outputs": [
    {
     "name": "stdout",
     "output_type": "stream",
     "text": [
      "[[1 2 3]\n",
      " [4 5 6]]\n"
     ]
    },
    {
     "data": {
      "text/plain": [
       "2"
      ]
     },
     "execution_count": 14,
     "metadata": {},
     "output_type": "execute_result"
    }
   ],
   "source": [
    "matrix = np.array([[1,2,3], [4,5,6]])\n",
    "print(matrix)\n",
    "matrix.ndim"
   ]
  },
  {
   "cell_type": "code",
   "execution_count": 15,
   "id": "f40dfc47",
   "metadata": {},
   "outputs": [
    {
     "data": {
      "text/plain": [
       "2"
      ]
     },
     "execution_count": 15,
     "metadata": {},
     "output_type": "execute_result"
    }
   ],
   "source": [
    "matrix[0][1]"
   ]
  },
  {
   "cell_type": "code",
   "execution_count": 16,
   "id": "2384bff5",
   "metadata": {},
   "outputs": [
    {
     "data": {
      "text/plain": [
       "6"
      ]
     },
     "execution_count": 16,
     "metadata": {},
     "output_type": "execute_result"
    }
   ],
   "source": [
    "matrix[1][2]"
   ]
  },
  {
   "cell_type": "code",
   "execution_count": 18,
   "id": "b9193c43",
   "metadata": {},
   "outputs": [
    {
     "name": "stdout",
     "output_type": "stream",
     "text": [
      "[[[1 2]\n",
      "  [3 4]]\n",
      "\n",
      " [[5 6]\n",
      "  [7 8]]]\n"
     ]
    }
   ],
   "source": [
    "tensor = np.array([[[1,2],[3,4]],[[5,6],[7,8]]])\n",
    "print(tensor)"
   ]
  },
  {
   "cell_type": "code",
   "execution_count": 19,
   "id": "f3f4cec8",
   "metadata": {},
   "outputs": [
    {
     "data": {
      "text/plain": [
       "2"
      ]
     },
     "execution_count": 19,
     "metadata": {},
     "output_type": "execute_result"
    }
   ],
   "source": [
    "tensor[0,0,1]"
   ]
  },
  {
   "cell_type": "code",
   "execution_count": 20,
   "id": "fab3e7ad",
   "metadata": {},
   "outputs": [
    {
     "data": {
      "text/plain": [
       "8"
      ]
     },
     "execution_count": 20,
     "metadata": {},
     "output_type": "execute_result"
    }
   ],
   "source": [
    "tensor[1,1,1]"
   ]
  },
  {
   "cell_type": "code",
   "execution_count": 21,
   "id": "93193558",
   "metadata": {},
   "outputs": [
    {
     "data": {
      "text/plain": [
       "3"
      ]
     },
     "execution_count": 21,
     "metadata": {},
     "output_type": "execute_result"
    }
   ],
   "source": [
    "tensor.ndim"
   ]
  },
  {
   "cell_type": "markdown",
   "id": "e3e8e96f",
   "metadata": {},
   "source": [
    "### Creating arrays from lists and other Python Structure"
   ]
  },
  {
   "cell_type": "code",
   "execution_count": 25,
   "id": "eef1e026",
   "metadata": {},
   "outputs": [
    {
     "data": {
      "text/plain": [
       "array([[1, 2, 3, 4, 5, 6, 7, 8]])"
      ]
     },
     "execution_count": 25,
     "metadata": {},
     "output_type": "execute_result"
    }
   ],
   "source": [
    "firstlist= [1,2,3,4,5,6,7,8]\n",
    "firstlists = np.array([firstlist])\n",
    "firstlists"
   ]
  },
  {
   "cell_type": "code",
   "execution_count": 27,
   "id": "5ee414a0",
   "metadata": {},
   "outputs": [
    {
     "data": {
      "text/plain": [
       "array([ 1.00000e+00,  1.20000e+00, -1.45600e+00,  2.34567e+03])"
      ]
     },
     "execution_count": 27,
     "metadata": {},
     "output_type": "execute_result"
    }
   ],
   "source": [
    "secondlist= [1,1.2, -1.456, 2345.67]\n",
    "secondlists=np.array(secondlist)\n",
    "secondlists"
   ]
  },
  {
   "cell_type": "code",
   "execution_count": 28,
   "id": "8c3e8b6f",
   "metadata": {},
   "outputs": [
    {
     "data": {
      "text/plain": [
       "dtype('float64')"
      ]
     },
     "execution_count": 28,
     "metadata": {},
     "output_type": "execute_result"
    }
   ],
   "source": [
    "secondlists.dtype"
   ]
  },
  {
   "cell_type": "code",
   "execution_count": 31,
   "id": "3b9553b6",
   "metadata": {},
   "outputs": [
    {
     "data": {
      "text/plain": [
       "list"
      ]
     },
     "execution_count": 31,
     "metadata": {},
     "output_type": "execute_result"
    }
   ],
   "source": [
    "thirdlist= ['peter', 102, 'paul', 34.56, 'thor', -456]\n",
    "type(thirdlist)"
   ]
  },
  {
   "cell_type": "code",
   "execution_count": 33,
   "id": "75c4190e",
   "metadata": {},
   "outputs": [
    {
     "data": {
      "text/plain": [
       "array(['peter', '102', 'paul', '34.56', 'thor', '-456'], dtype='<U32')"
      ]
     },
     "execution_count": 33,
     "metadata": {},
     "output_type": "execute_result"
    }
   ],
   "source": [
    "thirdlists= np.array(thirdlist)\n",
    "thirdlists"
   ]
  },
  {
   "cell_type": "code",
   "execution_count": 34,
   "id": "5424571d",
   "metadata": {},
   "outputs": [
    {
     "data": {
      "text/plain": [
       "dtype('<U32')"
      ]
     },
     "execution_count": 34,
     "metadata": {},
     "output_type": "execute_result"
    }
   ],
   "source": [
    "thirdlists.dtype"
   ]
  },
  {
   "cell_type": "code",
   "execution_count": 39,
   "id": "4e831fa4",
   "metadata": {},
   "outputs": [
    {
     "data": {
      "text/plain": [
       "1"
      ]
     },
     "execution_count": 39,
     "metadata": {},
     "output_type": "execute_result"
    }
   ],
   "source": [
    "first_tuple = (1,2,3,4,5,6)\n",
    "first_tuples= np.array(first_tuple)\n",
    "first_tuples.ndim"
   ]
  },
  {
   "cell_type": "code",
   "execution_count": 41,
   "id": "d4b1975b",
   "metadata": {},
   "outputs": [
    {
     "data": {
      "text/plain": [
       "array([[1, 2, 3],\n",
       "       [4, 5, 6]])"
      ]
     },
     "execution_count": 41,
     "metadata": {},
     "output_type": "execute_result"
    }
   ],
   "source": [
    "second_tuple= ([[1,2,3],[4,5,6]])\n",
    "second = np.array(second_tuple)\n",
    "second"
   ]
  },
  {
   "cell_type": "code",
   "execution_count": 42,
   "id": "2b9d5233",
   "metadata": {},
   "outputs": [
    {
     "data": {
      "text/plain": [
       "2"
      ]
     },
     "execution_count": 42,
     "metadata": {},
     "output_type": "execute_result"
    }
   ],
   "source": [
    "second.ndim"
   ]
  },
  {
   "cell_type": "markdown",
   "id": "9d0823d3",
   "metadata": {},
   "source": [
    "### Intrinsic Numpy Array Creation"
   ]
  },
  {
   "cell_type": "code",
   "execution_count": 45,
   "id": "6a1f4486",
   "metadata": {},
   "outputs": [
    {
     "data": {
      "text/plain": [
       "array([0, 1, 2, 3, 4, 5, 6, 7, 8, 9])"
      ]
     },
     "execution_count": 45,
     "metadata": {},
     "output_type": "execute_result"
    }
   ],
   "source": [
    "list=np.arange(10)\n",
    "list"
   ]
  },
  {
   "cell_type": "code",
   "execution_count": 46,
   "id": "405fd178",
   "metadata": {},
   "outputs": [
    {
     "name": "stdout",
     "output_type": "stream",
     "text": [
      "Help on built-in function arange in module numpy:\n",
      "\n",
      "arange(...)\n",
      "    arange([start,] stop[, step,], dtype=None, *, like=None)\n",
      "    \n",
      "    Return evenly spaced values within a given interval.\n",
      "    \n",
      "    ``arange`` can be called with a varying number of positional arguments:\n",
      "    \n",
      "    * ``arange(stop)``: Values are generated within the half-open interval\n",
      "      ``[0, stop)`` (in other words, the interval including `start` but\n",
      "      excluding `stop`).\n",
      "    * ``arange(start, stop)``: Values are generated within the half-open\n",
      "      interval ``[start, stop)``.\n",
      "    * ``arange(start, stop, step)`` Values are generated within the half-open\n",
      "      interval ``[start, stop)``, with spacing between values given by\n",
      "      ``step``.\n",
      "    \n",
      "    For integer arguments the function is roughly equivalent to the Python\n",
      "    built-in :py:class:`range`, but returns an ndarray rather than a ``range``\n",
      "    instance.\n",
      "    \n",
      "    When using a non-integer step, such as 0.1, it is often better to use\n",
      "    `numpy.linspace`.\n",
      "    \n",
      "    See the Warning sections below for more information.\n",
      "    \n",
      "    Parameters\n",
      "    ----------\n",
      "    start : integer or real, optional\n",
      "        Start of interval.  The interval includes this value.  The default\n",
      "        start value is 0.\n",
      "    stop : integer or real\n",
      "        End of interval.  The interval does not include this value, except\n",
      "        in some cases where `step` is not an integer and floating point\n",
      "        round-off affects the length of `out`.\n",
      "    step : integer or real, optional\n",
      "        Spacing between values.  For any output `out`, this is the distance\n",
      "        between two adjacent values, ``out[i+1] - out[i]``.  The default\n",
      "        step size is 1.  If `step` is specified as a position argument,\n",
      "        `start` must also be given.\n",
      "    dtype : dtype, optional\n",
      "        The type of the output array.  If `dtype` is not given, infer the data\n",
      "        type from the other input arguments.\n",
      "    like : array_like, optional\n",
      "        Reference object to allow the creation of arrays which are not\n",
      "        NumPy arrays. If an array-like passed in as ``like`` supports\n",
      "        the ``__array_function__`` protocol, the result will be defined\n",
      "        by it. In this case, it ensures the creation of an array object\n",
      "        compatible with that passed in via this argument.\n",
      "    \n",
      "        .. versionadded:: 1.20.0\n",
      "    \n",
      "    Returns\n",
      "    -------\n",
      "    arange : ndarray\n",
      "        Array of evenly spaced values.\n",
      "    \n",
      "        For floating point arguments, the length of the result is\n",
      "        ``ceil((stop - start)/step)``.  Because of floating point overflow,\n",
      "        this rule may result in the last element of `out` being greater\n",
      "        than `stop`.\n",
      "    \n",
      "    Warnings\n",
      "    --------\n",
      "    The length of the output might not be numerically stable.\n",
      "    \n",
      "    Another stability issue is due to the internal implementation of\n",
      "    `numpy.arange`.\n",
      "    The actual step value used to populate the array is\n",
      "    ``dtype(start + step) - dtype(start)`` and not `step`. Precision loss\n",
      "    can occur here, due to casting or due to using floating points when\n",
      "    `start` is much larger than `step`. This can lead to unexpected\n",
      "    behaviour. For example::\n",
      "    \n",
      "      >>> np.arange(0, 5, 0.5, dtype=int)\n",
      "      array([0, 0, 0, 0, 0, 0, 0, 0, 0, 0])\n",
      "      >>> np.arange(-3, 3, 0.5, dtype=int)\n",
      "      array([-3, -2, -1,  0,  1,  2,  3,  4,  5,  6,  7,  8])\n",
      "    \n",
      "    In such cases, the use of `numpy.linspace` should be preferred.\n",
      "    \n",
      "    The built-in :py:class:`range` generates :std:doc:`Python built-in integers\n",
      "    that have arbitrary size <python:c-api/long>`, while `numpy.arange`\n",
      "    produces `numpy.int32` or `numpy.int64` numbers. This may result in\n",
      "    incorrect results for large integer values::\n",
      "    \n",
      "      >>> power = 40\n",
      "      >>> modulo = 10000\n",
      "      >>> x1 = [(n ** power) % modulo for n in range(8)]\n",
      "      >>> x2 = [(n ** power) % modulo for n in np.arange(8)]\n",
      "      >>> print(x1)\n",
      "      [0, 1, 7776, 8801, 6176, 625, 6576, 4001]  # correct\n",
      "      >>> print(x2)\n",
      "      [0, 1, 7776, 7185, 0, 5969, 4816, 3361]  # incorrect\n",
      "    \n",
      "    See Also\n",
      "    --------\n",
      "    numpy.linspace : Evenly spaced numbers with careful handling of endpoints.\n",
      "    numpy.ogrid: Arrays of evenly spaced numbers in N-dimensions.\n",
      "    numpy.mgrid: Grid-shaped arrays of evenly spaced numbers in N-dimensions.\n",
      "    :ref:`how-to-partition`\n",
      "    \n",
      "    Examples\n",
      "    --------\n",
      "    >>> np.arange(3)\n",
      "    array([0, 1, 2])\n",
      "    >>> np.arange(3.0)\n",
      "    array([ 0.,  1.,  2.])\n",
      "    >>> np.arange(3,7)\n",
      "    array([3, 4, 5, 6])\n",
      "    >>> np.arange(3,7,2)\n",
      "    array([3, 5])\n",
      "\n"
     ]
    }
   ],
   "source": [
    "help(np.arange)"
   ]
  },
  {
   "cell_type": "code",
   "execution_count": 48,
   "id": "8b2f49ba",
   "metadata": {},
   "outputs": [
    {
     "data": {
      "text/plain": [
       "array([10, 11, 12, 13, 14, 15, 16, 17, 18, 19])"
      ]
     },
     "execution_count": 48,
     "metadata": {},
     "output_type": "execute_result"
    }
   ],
   "source": [
    "num = np.arange(10,20)\n",
    "num"
   ]
  },
  {
   "cell_type": "code",
   "execution_count": 51,
   "id": "cf67810d",
   "metadata": {},
   "outputs": [
    {
     "data": {
      "text/plain": [
       "array([ 0,  2,  4,  6,  8, 10])"
      ]
     },
     "execution_count": 51,
     "metadata": {},
     "output_type": "execute_result"
    }
   ],
   "source": [
    "even = np.arange(0,11,2)\n",
    "even"
   ]
  },
  {
   "cell_type": "code",
   "execution_count": 56,
   "id": "6a18a8f7",
   "metadata": {},
   "outputs": [
    {
     "data": {
      "text/plain": [
       "array([10.        , 10.20408163, 10.40816327, 10.6122449 , 10.81632653,\n",
       "       11.02040816, 11.2244898 , 11.42857143, 11.63265306, 11.83673469,\n",
       "       12.04081633, 12.24489796, 12.44897959, 12.65306122, 12.85714286,\n",
       "       13.06122449, 13.26530612, 13.46938776, 13.67346939, 13.87755102,\n",
       "       14.08163265, 14.28571429, 14.48979592, 14.69387755, 14.89795918,\n",
       "       15.10204082, 15.30612245, 15.51020408, 15.71428571, 15.91836735,\n",
       "       16.12244898, 16.32653061, 16.53061224, 16.73469388, 16.93877551,\n",
       "       17.14285714, 17.34693878, 17.55102041, 17.75510204, 17.95918367,\n",
       "       18.16326531, 18.36734694, 18.57142857, 18.7755102 , 18.97959184,\n",
       "       19.18367347, 19.3877551 , 19.59183673, 19.79591837, 20.        ])"
      ]
     },
     "execution_count": 56,
     "metadata": {},
     "output_type": "execute_result"
    }
   ],
   "source": [
    "# For floating numbers\n",
    "floats= np.linspace(10,20)\n",
    "floats"
   ]
  },
  {
   "cell_type": "code",
   "execution_count": 58,
   "id": "8aa8d62c",
   "metadata": {},
   "outputs": [
    {
     "data": {
      "text/plain": [
       "array([10. , 12.5, 15. , 17.5, 20. ])"
      ]
     },
     "execution_count": 58,
     "metadata": {},
     "output_type": "execute_result"
    }
   ],
   "source": [
    "# Specify the numbers you need\n",
    "floats = np.linspace(10,20,5)\n",
    "floats"
   ]
  },
  {
   "cell_type": "code",
   "execution_count": 59,
   "id": "7efad536",
   "metadata": {},
   "outputs": [
    {
     "data": {
      "text/plain": [
       "array([0.44836727, 0.05012619, 0.61551317, 0.20949211, 0.0777435 ,\n",
       "       0.71465609, 0.47070332, 0.34556818, 0.86856292, 0.53192755])"
      ]
     },
     "execution_count": 59,
     "metadata": {},
     "output_type": "execute_result"
    }
   ],
   "source": [
    "# To generate random numbers\n",
    "random = np.random.rand(10)\n",
    "random"
   ]
  },
  {
   "cell_type": "code",
   "execution_count": 65,
   "id": "b20ca5e3",
   "metadata": {},
   "outputs": [
    {
     "data": {
      "text/plain": [
       "array([[[0.26776754, 0.08443154, 0.00168775, 0.40000418, 0.39919545,\n",
       "         0.10668627, 0.07920509, 0.53285239, 0.894218  , 0.72642643],\n",
       "        [0.74937644, 0.3218493 , 0.10877631, 0.56558395, 0.64760845,\n",
       "         0.19683018, 0.39922047, 0.9815178 , 0.72896337, 0.10226741],\n",
       "        [0.7627688 , 0.90920889, 0.84297022, 0.58353935, 0.3116896 ,\n",
       "         0.38008419, 0.34321911, 0.33932018, 0.85405895, 0.95676589],\n",
       "        [0.9873785 , 0.76957673, 0.31575728, 0.37060954, 0.02807145,\n",
       "         0.47667615, 0.1189901 , 0.57750633, 0.17245001, 0.85538172],\n",
       "        [0.96949458, 0.4715869 , 0.48399522, 0.55351646, 0.01929603,\n",
       "         0.91877517, 0.68024142, 0.40922615, 0.27664162, 0.13345333],\n",
       "        [0.28764011, 0.59413137, 0.48248014, 0.04021798, 0.95955941,\n",
       "         0.8769056 , 0.01178431, 0.02664831, 0.08686161, 0.69399553],\n",
       "        [0.93036101, 0.12542786, 0.29218155, 0.0529384 , 0.24391716,\n",
       "         0.13597046, 0.3440877 , 0.06411931, 0.42726334, 0.90541138],\n",
       "        [0.0847292 , 0.53500292, 0.85255449, 0.90834044, 0.03066304,\n",
       "         0.08482623, 0.03935172, 0.32126889, 0.1839833 , 0.77238104],\n",
       "        [0.12000655, 0.87385937, 0.60875428, 0.74956528, 0.94462012,\n",
       "         0.98992807, 0.79279516, 0.94497044, 0.57997474, 0.74405404],\n",
       "        [0.87175689, 0.59944123, 0.55020985, 0.73339878, 0.04724484,\n",
       "         0.4144446 , 0.45563341, 0.76672814, 0.16154982, 0.55674513],\n",
       "        [0.56784919, 0.10842706, 0.02436585, 0.22459751, 0.85051219,\n",
       "         0.6908943 , 0.00178227, 0.25913386, 0.78599152, 0.10639633],\n",
       "        [0.14495845, 0.14702381, 0.32571689, 0.39271769, 0.1617686 ,\n",
       "         0.53639003, 0.24700975, 0.71560197, 0.15749187, 0.37062339],\n",
       "        [0.24971888, 0.96662394, 0.9769446 , 0.97307952, 0.36382274,\n",
       "         0.51383327, 0.11302707, 0.65863149, 0.35224712, 0.59027614],\n",
       "        [0.39052992, 0.79139782, 0.273571  , 0.52838578, 0.61177866,\n",
       "         0.74255609, 0.50173079, 0.45122753, 0.63928988, 0.70670905],\n",
       "        [0.85395279, 0.97613453, 0.51901452, 0.38310131, 0.75372957,\n",
       "         0.21727377, 0.34934624, 0.52312115, 0.99944132, 0.87596794],\n",
       "        [0.55166887, 0.53915184, 0.35414568, 0.62138339, 0.97198293,\n",
       "         0.90754344, 0.47001468, 0.38464335, 0.04798637, 0.50238612],\n",
       "        [0.2165989 , 0.82536533, 0.87798032, 0.1057651 , 0.99283248,\n",
       "         0.31914337, 0.36362588, 0.47188868, 0.22626305, 0.33000356],\n",
       "        [0.92201017, 0.05681861, 0.84517415, 0.09158996, 0.35282275,\n",
       "         0.84145584, 0.16908338, 0.53733168, 0.29096107, 0.34539791],\n",
       "        [0.04567368, 0.12029994, 0.68776965, 0.90428399, 0.06396064,\n",
       "         0.59440897, 0.93420739, 0.55598189, 0.40468464, 0.11576889],\n",
       "        [0.76303393, 0.7313714 , 0.72985845, 0.47168545, 0.39350248,\n",
       "         0.13109818, 0.31043467, 0.5385702 , 0.18198154, 0.45678014]],\n",
       "\n",
       "       [[0.28294488, 0.22219165, 0.90409769, 0.73363224, 0.31389919,\n",
       "         0.92104319, 0.83488338, 0.30854063, 0.65404605, 0.11648228],\n",
       "        [0.54940437, 0.34921032, 0.9164575 , 0.01789311, 0.91586341,\n",
       "         0.47741363, 0.9446832 , 0.85797146, 0.18067199, 0.97378017],\n",
       "        [0.99081025, 0.15809887, 0.12395028, 0.13063741, 0.5922569 ,\n",
       "         0.6393159 , 0.82301496, 0.35605285, 0.11186529, 0.07530097],\n",
       "        [0.24492335, 0.04050108, 0.39698424, 0.95389524, 0.00962758,\n",
       "         0.81397957, 0.06768697, 0.01323952, 0.94411042, 0.11819571],\n",
       "        [0.20919771, 0.7206374 , 0.99609139, 0.09899128, 0.78213424,\n",
       "         0.65968028, 0.64392308, 0.17389797, 0.32466317, 0.75749976],\n",
       "        [0.18379086, 0.98946342, 0.21906163, 0.77262548, 0.34182659,\n",
       "         0.10668764, 0.79438782, 0.28428159, 0.31864248, 0.8902609 ],\n",
       "        [0.24790796, 0.77541129, 0.99867964, 0.59522414, 0.98559013,\n",
       "         0.7501498 , 0.09774941, 0.47953544, 0.30698548, 0.05601783],\n",
       "        [0.59495807, 0.79473026, 0.58922135, 0.50719077, 0.27063199,\n",
       "         0.6457558 , 0.66548177, 0.88943007, 0.92471368, 0.67555529],\n",
       "        [0.62492277, 0.92395109, 0.62110197, 0.74173975, 0.64098439,\n",
       "         0.98069016, 0.64088123, 0.1327288 , 0.09755255, 0.5672003 ],\n",
       "        [0.42124235, 0.57690386, 0.56635987, 0.2885057 , 0.22127464,\n",
       "         0.05053906, 0.89713456, 0.32831166, 0.34592303, 0.41747894],\n",
       "        [0.69144963, 0.41229167, 0.30767745, 0.13469372, 0.60191916,\n",
       "         0.93652612, 0.67016616, 0.27752825, 0.19249885, 0.73900843],\n",
       "        [0.87617478, 0.386214  , 0.82994723, 0.96041028, 0.59917435,\n",
       "         0.92799357, 0.80849807, 0.36701722, 0.63631329, 0.86451215],\n",
       "        [0.70992847, 0.4058069 , 0.29494711, 0.34844775, 0.82339221,\n",
       "         0.61143205, 0.89231408, 0.22143402, 0.10104031, 0.53651285],\n",
       "        [0.63574277, 0.32894373, 0.99565924, 0.24295771, 0.00879812,\n",
       "         0.45095764, 0.56857526, 0.5757808 , 0.79799729, 0.78215835],\n",
       "        [0.27839529, 0.93473728, 0.92681429, 0.97729565, 0.3344948 ,\n",
       "         0.4067639 , 0.77232128, 0.22222279, 0.24345977, 0.68780804],\n",
       "        [0.84110386, 0.83638219, 0.67505309, 0.01301707, 0.47199709,\n",
       "         0.58579657, 0.25759087, 0.55157839, 0.48263954, 0.16233315],\n",
       "        [0.90854856, 0.48918151, 0.81939441, 0.29283869, 0.92376331,\n",
       "         0.99522295, 0.80437385, 0.2665994 , 0.31407644, 0.37357074],\n",
       "        [0.36398751, 0.00636091, 0.49949826, 0.19472942, 0.84647865,\n",
       "         0.80494789, 0.90024817, 0.92640436, 0.61648036, 0.35963037],\n",
       "        [0.69206777, 0.56044246, 0.28661868, 0.16067213, 0.29519431,\n",
       "         0.56620606, 0.50889572, 0.18994502, 0.68047523, 0.28908538],\n",
       "        [0.94913057, 0.7376859 , 0.13621271, 0.88108458, 0.23384946,\n",
       "         0.01065125, 0.15205558, 0.614758  , 0.5985065 , 0.05358344]],\n",
       "\n",
       "       [[0.10501372, 0.63984123, 0.35432212, 0.53874148, 0.62857159,\n",
       "         0.94142536, 0.75818287, 0.3167053 , 0.07102742, 0.49463615],\n",
       "        [0.01439071, 0.01988232, 0.01194215, 0.77485802, 0.39478466,\n",
       "         0.34490679, 0.45211966, 0.40112221, 0.73819592, 0.8193872 ],\n",
       "        [0.56954746, 0.81094478, 0.13461208, 0.14567719, 0.68797922,\n",
       "         0.42046529, 0.6263167 , 0.50601334, 0.11358772, 0.23493886],\n",
       "        [0.51634009, 0.26998893, 0.46879673, 0.84535783, 0.26213853,\n",
       "         0.69281726, 0.52465115, 0.01336217, 0.10514868, 0.62328867],\n",
       "        [0.38441968, 0.64151399, 0.83087725, 0.50650886, 0.19749026,\n",
       "         0.70624297, 0.97347716, 0.62449578, 0.17159912, 0.14614534],\n",
       "        [0.93395276, 0.7784385 , 0.53706921, 0.17060223, 0.44438662,\n",
       "         0.35989494, 0.01536234, 0.82907638, 0.0089298 , 0.14889385],\n",
       "        [0.29038637, 0.99326429, 0.49764151, 0.75900187, 0.67050206,\n",
       "         0.16302939, 0.05605239, 0.41260887, 0.37203923, 0.19272055],\n",
       "        [0.83413472, 0.39312394, 0.66169743, 0.05869863, 0.15417648,\n",
       "         0.02712386, 0.73849679, 0.17540371, 0.2573303 , 0.03483579],\n",
       "        [0.51552119, 0.40719021, 0.47694534, 0.65107856, 0.90897896,\n",
       "         0.08845187, 0.68439944, 0.43971758, 0.01773941, 0.67973368],\n",
       "        [0.01474762, 0.38167206, 0.55669669, 0.79059818, 0.05338423,\n",
       "         0.7285837 , 0.62975494, 0.6406254 , 0.42372761, 0.99101681],\n",
       "        [0.85649383, 0.76466964, 0.54686269, 0.11989722, 0.82483079,\n",
       "         0.31384777, 0.99266941, 0.67643326, 0.46677163, 0.14593421],\n",
       "        [0.37726315, 0.40826271, 0.74293859, 0.45414552, 0.15228893,\n",
       "         0.62498888, 0.80494787, 0.57912393, 0.86717246, 0.33858372],\n",
       "        [0.44948235, 0.55567435, 0.65587427, 0.22814073, 0.55875114,\n",
       "         0.1138469 , 0.06071589, 0.48040838, 0.5251698 , 0.77489155],\n",
       "        [0.79516225, 0.2114872 , 0.54460259, 0.79114047, 0.24264754,\n",
       "         0.98862427, 0.71823788, 0.04760274, 0.01901664, 0.32307541],\n",
       "        [0.93123129, 0.41968668, 0.74536952, 0.78200562, 0.29096787,\n",
       "         0.38209578, 0.66690734, 0.65008031, 0.59709272, 0.19772578],\n",
       "        [0.77144313, 0.59610442, 0.07690363, 0.93774728, 0.33999943,\n",
       "         0.76062187, 0.46361778, 0.63754322, 0.87824341, 0.90421995],\n",
       "        [0.14024887, 0.0799623 , 0.38534707, 0.29997995, 0.79842808,\n",
       "         0.7244447 , 0.5820451 , 0.35993165, 0.59602643, 0.12113387],\n",
       "        [0.70023316, 0.52761662, 0.47792253, 0.39136026, 0.70854577,\n",
       "         0.86232252, 0.46303536, 0.333758  , 0.90678204, 0.16905791],\n",
       "        [0.14044828, 0.36738487, 0.15944235, 0.38492747, 0.92931205,\n",
       "         0.96053403, 0.87971298, 0.51428728, 0.64891168, 0.46191938],\n",
       "        [0.07414772, 0.08119443, 0.61296584, 0.50053101, 0.4103675 ,\n",
       "         0.6615459 , 0.15527909, 0.42146975, 0.94802789, 0.80504243]]])"
      ]
     },
     "execution_count": 65,
     "metadata": {},
     "output_type": "execute_result"
    }
   ],
   "source": [
    "random1 = np.random.rand(3,20,10)\n",
    "random1"
   ]
  },
  {
   "cell_type": "code",
   "execution_count": 69,
   "id": "a47c3474",
   "metadata": {},
   "outputs": [
    {
     "data": {
      "text/plain": [
       "array([12, 11, 17, 14, 16])"
      ]
     },
     "execution_count": 69,
     "metadata": {},
     "output_type": "execute_result"
    }
   ],
   "source": [
    "# To get the integer random numbers\n",
    "num = np.random.randint(10,20,5)\n",
    "num\n"
   ]
  },
  {
   "cell_type": "code",
   "execution_count": 72,
   "id": "11d03b5b",
   "metadata": {},
   "outputs": [
    {
     "data": {
      "text/plain": [
       "array([0, 0, 0, 0, 0, 0, 0, 0, 0, 0])"
      ]
     },
     "execution_count": 72,
     "metadata": {},
     "output_type": "execute_result"
    }
   ],
   "source": [
    "### Creating arrays filled with constant values\n",
    "zeros = np.zeros(10, dtype = int)\n",
    "zeros"
   ]
  },
  {
   "cell_type": "code",
   "execution_count": 73,
   "id": "94358f80",
   "metadata": {},
   "outputs": [
    {
     "data": {
      "text/plain": [
       "array([0., 0., 0., 0., 0., 0., 0., 0., 0., 0.])"
      ]
     },
     "execution_count": 73,
     "metadata": {},
     "output_type": "execute_result"
    }
   ],
   "source": [
    "zeros = np.zeros(10)\n",
    "zeros"
   ]
  },
  {
   "cell_type": "code",
   "execution_count": 77,
   "id": "983a6b81",
   "metadata": {},
   "outputs": [
    {
     "data": {
      "text/plain": [
       "array([[0., 0., 0., 0., 0.],\n",
       "       [0., 0., 0., 0., 0.],\n",
       "       [0., 0., 0., 0., 0.],\n",
       "       [0., 0., 0., 0., 0.]])"
      ]
     },
     "execution_count": 77,
     "metadata": {},
     "output_type": "execute_result"
    }
   ],
   "source": [
    "zeros = np.zeros((4,5))\n",
    "zeros"
   ]
  },
  {
   "cell_type": "code",
   "execution_count": 78,
   "id": "2484e098",
   "metadata": {},
   "outputs": [
    {
     "data": {
      "text/plain": [
       "array([[1, 1, 1],\n",
       "       [1, 1, 1]])"
      ]
     },
     "execution_count": 78,
     "metadata": {},
     "output_type": "execute_result"
    }
   ],
   "source": [
    "ones= np.ones((2,3),dtype = int)\n",
    "ones"
   ]
  },
  {
   "cell_type": "code",
   "execution_count": 80,
   "id": "adae5ff8",
   "metadata": {},
   "outputs": [
    {
     "data": {
      "text/plain": [
       "array([4, 4, 4, 4, 4, 4, 4, 4, 4, 4])"
      ]
     },
     "execution_count": 80,
     "metadata": {},
     "output_type": "execute_result"
    }
   ],
   "source": [
    "# Create empty list and then fill it with 4\n",
    "empty = np.empty(10, dtype = int)\n",
    "empty.fill(4)\n",
    "empty"
   ]
  },
  {
   "cell_type": "code",
   "execution_count": 81,
   "id": "f36f9d39",
   "metadata": {},
   "outputs": [
    {
     "data": {
      "text/plain": [
       "array([5, 5, 5, 5, 5, 5, 5, 5, 5, 5])"
      ]
     },
     "execution_count": 81,
     "metadata": {},
     "output_type": "execute_result"
    }
   ],
   "source": [
    "# 10 elements of 5 letter\n",
    "full = np.full(10,5)\n",
    "full"
   ]
  },
  {
   "cell_type": "code",
   "execution_count": 83,
   "id": "d76ae00d",
   "metadata": {},
   "outputs": [
    {
     "data": {
      "text/plain": [
       "array([[8, 8, 8],\n",
       "       [8, 8, 8],\n",
       "       [8, 8, 8],\n",
       "       [8, 8, 8]])"
      ]
     },
     "execution_count": 83,
     "metadata": {},
     "output_type": "execute_result"
    }
   ],
   "source": [
    "# create matrix of element 8\n",
    "matrix = np.full((4,3),8)\n",
    "matrix"
   ]
  },
  {
   "cell_type": "markdown",
   "id": "7974c223",
   "metadata": {},
   "source": [
    "### Finding shape and size of an array"
   ]
  },
  {
   "cell_type": "code",
   "execution_count": 86,
   "id": "c83eccaf",
   "metadata": {},
   "outputs": [
    {
     "data": {
      "text/plain": [
       "array([0, 1, 2, 3, 4, 5, 6, 7, 8, 9])"
      ]
     },
     "execution_count": 86,
     "metadata": {},
     "output_type": "execute_result"
    }
   ],
   "source": [
    "first_arr = np.arange(10)\n",
    "first_arr"
   ]
  },
  {
   "cell_type": "code",
   "execution_count": 98,
   "id": "1f6be33f",
   "metadata": {},
   "outputs": [
    {
     "data": {
      "text/plain": [
       "array([[ 1.,  2.],\n",
       "       [ 2.,  4.],\n",
       "       [ 3.,  6.],\n",
       "       [ 4.,  8.],\n",
       "       [ 5., 10.],\n",
       "       [ 6., 12.],\n",
       "       [ 7., 14.],\n",
       "       [ 8., 16.],\n",
       "       [ 9., 18.],\n",
       "       [10., 20.]])"
      ]
     },
     "execution_count": 98,
     "metadata": {},
     "output_type": "execute_result"
    }
   ],
   "source": [
    "second_arr = np.linspace((1,2),(10,20),10)\n",
    "second_arr"
   ]
  },
  {
   "cell_type": "code",
   "execution_count": 94,
   "id": "ffc1ce53",
   "metadata": {},
   "outputs": [
    {
     "data": {
      "text/plain": [
       "array([[[4, 4, 4],\n",
       "        [4, 4, 4]],\n",
       "\n",
       "       [[4, 4, 4],\n",
       "        [4, 4, 4]]])"
      ]
     },
     "execution_count": 94,
     "metadata": {},
     "output_type": "execute_result"
    }
   ],
   "source": [
    "third_arr = np.full((2,2,3),4)\n",
    "third_arr"
   ]
  },
  {
   "cell_type": "code",
   "execution_count": 95,
   "id": "6c8c8d12",
   "metadata": {},
   "outputs": [
    {
     "data": {
      "text/plain": [
       "(10,)"
      ]
     },
     "execution_count": 95,
     "metadata": {},
     "output_type": "execute_result"
    }
   ],
   "source": [
    "np.shape(first_arr)"
   ]
  },
  {
   "cell_type": "code",
   "execution_count": 99,
   "id": "893f804f",
   "metadata": {},
   "outputs": [
    {
     "data": {
      "text/plain": [
       "(10, 2)"
      ]
     },
     "execution_count": 99,
     "metadata": {},
     "output_type": "execute_result"
    }
   ],
   "source": [
    "np.shape(second_arr)"
   ]
  },
  {
   "cell_type": "code",
   "execution_count": 97,
   "id": "868947aa",
   "metadata": {},
   "outputs": [
    {
     "data": {
      "text/plain": [
       "(2, 2, 3)"
      ]
     },
     "execution_count": 97,
     "metadata": {},
     "output_type": "execute_result"
    }
   ],
   "source": [
    "np.shape(third_arr)"
   ]
  },
  {
   "cell_type": "code",
   "execution_count": 100,
   "id": "d605266a",
   "metadata": {},
   "outputs": [
    {
     "data": {
      "text/plain": [
       "10"
      ]
     },
     "execution_count": 100,
     "metadata": {},
     "output_type": "execute_result"
    }
   ],
   "source": [
    "np.size(first_arr)"
   ]
  },
  {
   "cell_type": "code",
   "execution_count": 101,
   "id": "007ecad2",
   "metadata": {},
   "outputs": [
    {
     "data": {
      "text/plain": [
       "20"
      ]
     },
     "execution_count": 101,
     "metadata": {},
     "output_type": "execute_result"
    }
   ],
   "source": [
    "np.size(second_arr)"
   ]
  },
  {
   "cell_type": "code",
   "execution_count": 102,
   "id": "ded123bb",
   "metadata": {},
   "outputs": [
    {
     "data": {
      "text/plain": [
       "12"
      ]
     },
     "execution_count": 102,
     "metadata": {},
     "output_type": "execute_result"
    }
   ],
   "source": [
    "np.size(third_arr)"
   ]
  },
  {
   "cell_type": "markdown",
   "id": "59ab0fca",
   "metadata": {},
   "source": [
    "### Adding, removing and sorting element"
   ]
  },
  {
   "cell_type": "code",
   "execution_count": 105,
   "id": "29227d38",
   "metadata": {},
   "outputs": [
    {
     "data": {
      "text/plain": [
       "array([1, 2, 3, 4, 5])"
      ]
     },
     "execution_count": 105,
     "metadata": {},
     "output_type": "execute_result"
    }
   ],
   "source": [
    "# insert at specific point\n",
    "first_arr = np.array([1,2,3,5])\n",
    "new_first = np.insert(first_arr,3,4)\n",
    "new_first"
   ]
  },
  {
   "cell_type": "code",
   "execution_count": 106,
   "id": "4b15dd1e",
   "metadata": {},
   "outputs": [
    {
     "data": {
      "text/plain": [
       "array([1, 2, 3, 4, 5])"
      ]
     },
     "execution_count": 106,
     "metadata": {},
     "output_type": "execute_result"
    }
   ],
   "source": [
    "# append adds element at the end\n",
    "second_arr = np.array([1,2,3,4])\n",
    "new_second = np.append(second_arr,5)\n",
    "new_second"
   ]
  },
  {
   "cell_type": "code",
   "execution_count": 110,
   "id": "dc085b2a",
   "metadata": {},
   "outputs": [
    {
     "data": {
      "text/plain": [
       "array([1, 2, 3])"
      ]
     },
     "execution_count": 110,
     "metadata": {},
     "output_type": "execute_result"
    }
   ],
   "source": [
    "# delete the element while specifies index\n",
    "del_arr = np.delete(first_arr,3)\n",
    "del_arr"
   ]
  },
  {
   "cell_type": "code",
   "execution_count": 111,
   "id": "893b0cb6",
   "metadata": {},
   "outputs": [
    {
     "data": {
      "text/plain": [
       "array([ 7, 12, 15,  3, 13,  6,  2,  0,  3, 17, 17,  8,  0, 18, 14,  7,  9,\n",
       "        7,  1,  6])"
      ]
     },
     "execution_count": 111,
     "metadata": {},
     "output_type": "execute_result"
    }
   ],
   "source": [
    "# sort the random numbers\n",
    "integers = np.random.randint(0,20,20)\n",
    "integers"
   ]
  },
  {
   "cell_type": "code",
   "execution_count": 113,
   "id": "21f70809",
   "metadata": {},
   "outputs": [
    {
     "data": {
      "text/plain": [
       "array([ 0,  0,  1,  2,  3,  3,  6,  6,  7,  7,  7,  8,  9, 12, 13, 14, 15,\n",
       "       17, 17, 18])"
      ]
     },
     "execution_count": 113,
     "metadata": {},
     "output_type": "execute_result"
    }
   ],
   "source": [
    "integers_arr= np.sort(integers)\n",
    "integers_arr"
   ]
  },
  {
   "cell_type": "code",
   "execution_count": null,
   "id": "dda96d7f",
   "metadata": {},
   "outputs": [],
   "source": []
  }
 ],
 "metadata": {
  "kernelspec": {
   "display_name": "Python 3 (ipykernel)",
   "language": "python",
   "name": "python3"
  },
  "language_info": {
   "codemirror_mode": {
    "name": "ipython",
    "version": 3
   },
   "file_extension": ".py",
   "mimetype": "text/x-python",
   "name": "python",
   "nbconvert_exporter": "python",
   "pygments_lexer": "ipython3",
   "version": "3.11.5"
  }
 },
 "nbformat": 4,
 "nbformat_minor": 5
}
