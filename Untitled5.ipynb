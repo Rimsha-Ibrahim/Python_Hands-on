{
 "cells": [
  {
   "cell_type": "code",
   "execution_count": null,
   "id": "b9959b7c",
   "metadata": {},
   "outputs": [],
   "source": [
    "1. What is a variable in python?"
   ]
  },
  {
   "cell_type": "markdown",
   "id": "13418529",
   "metadata": {},
   "source": [
    "In Python, a variable is a name that is assigned to store a value. It acts as a reference or a container for storing data that can be used and manipulated throughout a program. Variables allow us to label data with descriptive names, making code easier to understand and maintain."
   ]
  },
  {
   "cell_type": "markdown",
   "id": "f37bbb7f",
   "metadata": {},
   "source": [
    "2. Assign multiple values to multiple variables"
   ]
  },
  {
   "cell_type": "code",
   "execution_count": 6,
   "id": "bcfd9abe",
   "metadata": {},
   "outputs": [
    {
     "name": "stdout",
     "output_type": "stream",
     "text": [
      "5 3.2 Hello\n"
     ]
    }
   ],
   "source": [
    "a,b,c = 5, 3.2, \"Hello\"\n",
    "print(a,b,c)"
   ]
  },
  {
   "cell_type": "code",
   "execution_count": null,
   "id": "8e8c8062",
   "metadata": {},
   "outputs": [],
   "source": [
    "3. How do you create a variable?"
   ]
  },
  {
   "cell_type": "markdown",
   "id": "43d1b0dc",
   "metadata": {},
   "source": [
    "Simply assign a value to a name using the assignment operator =."
   ]
  },
  {
   "cell_type": "code",
   "execution_count": 10,
   "id": "9682b397",
   "metadata": {},
   "outputs": [
    {
     "data": {
      "text/plain": [
       "dict"
      ]
     },
     "execution_count": 10,
     "metadata": {},
     "output_type": "execute_result"
    }
   ],
   "source": [
    "type({})"
   ]
  },
  {
   "cell_type": "code",
   "execution_count": null,
   "id": "42c26af9",
   "metadata": {},
   "outputs": [],
   "source": []
  },
  {
   "cell_type": "code",
   "execution_count": null,
   "id": "2fe77a50",
   "metadata": {},
   "outputs": [],
   "source": []
  },
  {
   "cell_type": "code",
   "execution_count": null,
   "id": "398b13fe",
   "metadata": {},
   "outputs": [],
   "source": []
  }
 ],
 "metadata": {
  "kernelspec": {
   "display_name": "Python 3 (ipykernel)",
   "language": "python",
   "name": "python3"
  },
  "language_info": {
   "codemirror_mode": {
    "name": "ipython",
    "version": 3
   },
   "file_extension": ".py",
   "mimetype": "text/x-python",
   "name": "python",
   "nbconvert_exporter": "python",
   "pygments_lexer": "ipython3",
   "version": "3.11.5"
  }
 },
 "nbformat": 4,
 "nbformat_minor": 5
}
