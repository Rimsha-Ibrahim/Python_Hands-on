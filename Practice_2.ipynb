{
 "cells": [
  {
   "cell_type": "markdown",
   "id": "a92427cc",
   "metadata": {},
   "source": [
    "### Print numbers 1 to 10"
   ]
  },
  {
   "cell_type": "markdown",
   "id": "57f0ea40",
   "metadata": {},
   "source": [
    "##### For loop"
   ]
  },
  {
   "cell_type": "code",
   "execution_count": 1,
   "id": "03b5357d",
   "metadata": {},
   "outputs": [
    {
     "name": "stdout",
     "output_type": "stream",
     "text": [
      "1\n",
      "2\n",
      "3\n",
      "4\n",
      "5\n",
      "6\n",
      "7\n",
      "8\n",
      "9\n",
      "10\n"
     ]
    }
   ],
   "source": [
    "for i in range(1,11):\n",
    "    print(i)"
   ]
  },
  {
   "cell_type": "markdown",
   "id": "71e92899",
   "metadata": {},
   "source": [
    "##### While loop"
   ]
  },
  {
   "cell_type": "code",
   "execution_count": 3,
   "id": "29350614",
   "metadata": {},
   "outputs": [
    {
     "name": "stdout",
     "output_type": "stream",
     "text": [
      "1\n",
      "2\n",
      "3\n",
      "4\n",
      "5\n",
      "6\n",
      "7\n",
      "8\n",
      "9\n",
      "10\n"
     ]
    }
   ],
   "source": [
    "i=1\n",
    "while i<=10:\n",
    "    print(i)\n",
    "    i+=1"
   ]
  },
  {
   "cell_type": "markdown",
   "id": "913c4b98",
   "metadata": {},
   "source": [
    "### Print the elements of a list"
   ]
  },
  {
   "cell_type": "markdown",
   "id": "b15eabc8",
   "metadata": {},
   "source": [
    "##### For loop"
   ]
  },
  {
   "cell_type": "code",
   "execution_count": 4,
   "id": "e3b1b84f",
   "metadata": {},
   "outputs": [
    {
     "name": "stdout",
     "output_type": "stream",
     "text": [
      "apple\n",
      "banana\n",
      "cherry\n"
     ]
    }
   ],
   "source": [
    "list = [\"apple\", \"banana\",\"cherry\"]\n",
    "for i in list:\n",
    "    print(i)"
   ]
  },
  {
   "cell_type": "markdown",
   "id": "f53f960a",
   "metadata": {},
   "source": [
    "##### While loop"
   ]
  },
  {
   "cell_type": "code",
   "execution_count": 6,
   "id": "0b107436",
   "metadata": {},
   "outputs": [
    {
     "name": "stdout",
     "output_type": "stream",
     "text": [
      "apple\n",
      "banana\n",
      "cherry\n"
     ]
    }
   ],
   "source": [
    "idx= 0\n",
    "while idx <len(list):\n",
    "    print(list[idx])\n",
    "    idx +=1"
   ]
  },
  {
   "cell_type": "markdown",
   "id": "7626d230",
   "metadata": {},
   "source": [
    "### Sum of first 5 natural numbers"
   ]
  },
  {
   "cell_type": "markdown",
   "id": "e067ab19",
   "metadata": {},
   "source": [
    "##### For loop:"
   ]
  },
  {
   "cell_type": "code",
   "execution_count": 12,
   "id": "0341a326",
   "metadata": {},
   "outputs": [
    {
     "name": "stdout",
     "output_type": "stream",
     "text": [
      "15\n"
     ]
    }
   ],
   "source": [
    "sum = 0\n",
    "for i in range(1,6,1):\n",
    "    sum= sum+i\n",
    "print(sum)"
   ]
  },
  {
   "cell_type": "markdown",
   "id": "670bf976",
   "metadata": {},
   "source": [
    "##### While loop:"
   ]
  },
  {
   "cell_type": "code",
   "execution_count": 13,
   "id": "97a2bb88",
   "metadata": {},
   "outputs": [
    {
     "name": "stdout",
     "output_type": "stream",
     "text": [
      "15\n"
     ]
    }
   ],
   "source": [
    "i=0\n",
    "sum=0\n",
    "while i <=5:\n",
    "    sum = sum+i\n",
    "    i+=1\n",
    "print(sum)"
   ]
  },
  {
   "cell_type": "markdown",
   "id": "16dc246d",
   "metadata": {},
   "source": [
    "### Print only even numbers"
   ]
  },
  {
   "cell_type": "markdown",
   "id": "e85d1a55",
   "metadata": {},
   "source": [
    "##### For loop"
   ]
  },
  {
   "cell_type": "code",
   "execution_count": 17,
   "id": "e8ea20a9",
   "metadata": {},
   "outputs": [
    {
     "name": "stdout",
     "output_type": "stream",
     "text": [
      "2\n",
      "4\n",
      "6\n",
      "8\n",
      "10\n"
     ]
    }
   ],
   "source": [
    "for i in range(1,11):\n",
    "    if i %2==0:\n",
    "        print(i)\n",
    "    else:\n",
    "        (\"Not Even\")"
   ]
  },
  {
   "cell_type": "markdown",
   "id": "03b1d4a0",
   "metadata": {},
   "source": [
    "##### While loop"
   ]
  },
  {
   "cell_type": "code",
   "execution_count": 19,
   "id": "9fbed9ab",
   "metadata": {},
   "outputs": [
    {
     "name": "stdout",
     "output_type": "stream",
     "text": [
      "2\n",
      "4\n",
      "6\n",
      "8\n",
      "10\n"
     ]
    }
   ],
   "source": [
    "n=1\n",
    "while n<=10:\n",
    "    if n %2==0:\n",
    "        print(n)\n",
    "    n+=1"
   ]
  },
  {
   "cell_type": "markdown",
   "id": "f1da8470",
   "metadata": {},
   "source": [
    "### Print each character of a string"
   ]
  },
  {
   "cell_type": "code",
   "execution_count": 22,
   "id": "9c727606",
   "metadata": {},
   "outputs": [
    {
     "name": "stdout",
     "output_type": "stream",
     "text": [
      "H\n",
      "e\n",
      "l\n",
      "l\n",
      "o\n"
     ]
    }
   ],
   "source": [
    "string = \"Hello\"\n",
    "for i in string:\n",
    "    print(i)"
   ]
  },
  {
   "cell_type": "markdown",
   "id": "6d3b7d38",
   "metadata": {},
   "source": [
    "##### While loop"
   ]
  },
  {
   "cell_type": "code",
   "execution_count": 25,
   "id": "eaceae91",
   "metadata": {},
   "outputs": [
    {
     "name": "stdout",
     "output_type": "stream",
     "text": [
      "H\n",
      "e\n",
      "l\n",
      "l\n",
      "o\n"
     ]
    }
   ],
   "source": [
    "idx = 0\n",
    "while idx < len(string):\n",
    "    print(string[idx])\n",
    "    idx+=1"
   ]
  },
  {
   "cell_type": "markdown",
   "id": "49863807",
   "metadata": {},
   "source": [
    "### Countdown from 5 to 1"
   ]
  },
  {
   "cell_type": "markdown",
   "id": "29dad433",
   "metadata": {},
   "source": [
    "##### for loop"
   ]
  },
  {
   "cell_type": "code",
   "execution_count": 28,
   "id": "c0ab3fc3",
   "metadata": {},
   "outputs": [
    {
     "name": "stdout",
     "output_type": "stream",
     "text": [
      "5\n",
      "4\n",
      "3\n",
      "2\n",
      "1\n"
     ]
    }
   ],
   "source": [
    "for i in range(5,0,-1):\n",
    "    print(i)"
   ]
  },
  {
   "cell_type": "markdown",
   "id": "ddcf9f39",
   "metadata": {},
   "source": [
    "##### while loop"
   ]
  },
  {
   "cell_type": "code",
   "execution_count": 32,
   "id": "1a14632e",
   "metadata": {},
   "outputs": [
    {
     "name": "stdout",
     "output_type": "stream",
     "text": [
      "5\n",
      "4\n",
      "3\n",
      "2\n",
      "1\n"
     ]
    }
   ],
   "source": [
    "count = 5\n",
    "while count >=1:\n",
    "    print(count)\n",
    "    count-=1"
   ]
  },
  {
   "cell_type": "markdown",
   "id": "05b74eea",
   "metadata": {},
   "source": [
    "### Multiply each number in a list by 2\n"
   ]
  },
  {
   "cell_type": "code",
   "execution_count": 38,
   "id": "9a269dcc",
   "metadata": {},
   "outputs": [
    {
     "name": "stdout",
     "output_type": "stream",
     "text": [
      "[4, 8, 12, 16]\n"
     ]
    }
   ],
   "source": [
    "list = [2,4,6,8]\n",
    "product_list=[] \n",
    "for i in list:\n",
    "    mult=i*2\n",
    "    product_list.append(mult)\n",
    "print(product_list)"
   ]
  },
  {
   "cell_type": "code",
   "execution_count": 44,
   "id": "cf447e2e",
   "metadata": {},
   "outputs": [
    {
     "name": "stdout",
     "output_type": "stream",
     "text": [
      "4\n",
      "8\n",
      "12\n",
      "16\n"
     ]
    }
   ],
   "source": [
    "i=0\n",
    "list = [2,4,6,8]\n",
    "while i < len(list):\n",
    "    print(list[i]*2)\n",
    "    i+=1"
   ]
  },
  {
   "cell_type": "markdown",
   "id": "7d4526bd",
   "metadata": {},
   "source": [
    "### Print the indices of a list\n"
   ]
  },
  {
   "cell_type": "code",
   "execution_count": 56,
   "id": "b03e951c",
   "metadata": {},
   "outputs": [
    {
     "name": "stdout",
     "output_type": "stream",
     "text": [
      "0\n",
      "1\n",
      "2\n"
     ]
    }
   ],
   "source": [
    "for index, element in enumerate(list):\n",
    "    print(index)\n",
    " "
   ]
  },
  {
   "cell_type": "code",
   "execution_count": 59,
   "id": "24250237",
   "metadata": {},
   "outputs": [
    {
     "name": "stdout",
     "output_type": "stream",
     "text": [
      "0\n",
      "1\n",
      "2\n"
     ]
    }
   ],
   "source": [
    "idx=0\n",
    "while idx <len(list):\n",
    "    print(idx)\n",
    "    idx +=1"
   ]
  },
  {
   "cell_type": "markdown",
   "id": "46fc0c11",
   "metadata": {},
   "source": [
    "### Print all elements of a nested list"
   ]
  },
  {
   "cell_type": "code",
   "execution_count": 66,
   "id": "37566593",
   "metadata": {},
   "outputs": [
    {
     "name": "stdout",
     "output_type": "stream",
     "text": [
      "1\n",
      "2\n",
      "3\n",
      "4\n",
      "5\n",
      "6\n"
     ]
    }
   ],
   "source": [
    "nest = [[1,2],[3,4],[5,6]]\n",
    "for i in nest:\n",
    "    for j in i:\n",
    "        print(j)\n",
    " \n",
    " "
   ]
  },
  {
   "cell_type": "markdown",
   "id": "2fad3a77",
   "metadata": {},
   "source": [
    "### Find the factorial of a number using a loop\n"
   ]
  },
  {
   "cell_type": "code",
   "execution_count": 70,
   "id": "dc59995b",
   "metadata": {},
   "outputs": [
    {
     "name": "stdout",
     "output_type": "stream",
     "text": [
      "120\n"
     ]
    }
   ],
   "source": [
    "fact=1\n",
    "for i in range(1,6):\n",
    "    fact= fact*i\n",
    "print(fact)"
   ]
  },
  {
   "cell_type": "code",
   "execution_count": 73,
   "id": "da5ce503",
   "metadata": {},
   "outputs": [
    {
     "name": "stdout",
     "output_type": "stream",
     "text": [
      "120\n"
     ]
    }
   ],
   "source": [
    "i=1\n",
    "fact = 1\n",
    "while i <=5:\n",
    "    fact*=i\n",
    "    i+=1\n",
    "print(fact)"
   ]
  },
  {
   "cell_type": "code",
   "execution_count": null,
   "id": "e895db0e",
   "metadata": {},
   "outputs": [],
   "source": []
  }
 ],
 "metadata": {
  "kernelspec": {
   "display_name": "Python 3 (ipykernel)",
   "language": "python",
   "name": "python3"
  },
  "language_info": {
   "codemirror_mode": {
    "name": "ipython",
    "version": 3
   },
   "file_extension": ".py",
   "mimetype": "text/x-python",
   "name": "python",
   "nbconvert_exporter": "python",
   "pygments_lexer": "ipython3",
   "version": "3.11.5"
  }
 },
 "nbformat": 4,
 "nbformat_minor": 5
}
