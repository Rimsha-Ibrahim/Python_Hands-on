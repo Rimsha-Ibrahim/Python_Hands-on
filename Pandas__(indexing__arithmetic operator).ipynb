{
 "cells": [
  {
   "cell_type": "markdown",
   "id": "b192556b",
   "metadata": {},
   "source": [
    "### Topics discussed\n",
    "1. Indexing and Slicing\n",
    "2. Arithmetic Operator"
   ]
  },
  {
   "cell_type": "markdown",
   "id": "d042be1f",
   "metadata": {},
   "source": [
    "### 1. Indexing and Slicing"
   ]
  },
  {
   "cell_type": "code",
   "execution_count": 10,
   "id": "a4a3e5be",
   "metadata": {},
   "outputs": [
    {
     "data": {
      "text/plain": [
       "array([ 0,  1,  2,  3,  4,  5,  6,  7,  8,  9, 10, 11])"
      ]
     },
     "execution_count": 10,
     "metadata": {},
     "output_type": "execute_result"
    }
   ],
   "source": [
    "from numpy.random import default_rng\n",
    "import numpy as np\n",
    "integers = np.arange(12)\n",
    "integers"
   ]
  },
  {
   "cell_type": "code",
   "execution_count": 11,
   "id": "2f041cef",
   "metadata": {},
   "outputs": [
    {
     "data": {
      "text/plain": [
       "array([0, 1, 2, 3, 4])"
      ]
     },
     "execution_count": 11,
     "metadata": {},
     "output_type": "execute_result"
    }
   ],
   "source": [
    "integers[:5]"
   ]
  },
  {
   "cell_type": "code",
   "execution_count": 12,
   "id": "343a1f10",
   "metadata": {},
   "outputs": [
    {
     "data": {
      "text/plain": [
       "array([ 0,  2,  4,  6,  8, 10])"
      ]
     },
     "execution_count": 12,
     "metadata": {},
     "output_type": "execute_result"
    }
   ],
   "source": [
    "integers[::2]"
   ]
  },
  {
   "cell_type": "code",
   "execution_count": 13,
   "id": "78f4fcef",
   "metadata": {},
   "outputs": [
    {
     "data": {
      "text/plain": [
       "array([[ 0,  1,  2],\n",
       "       [ 3,  4,  5],\n",
       "       [ 6,  7,  8],\n",
       "       [ 9, 10, 11]])"
      ]
     },
     "execution_count": 13,
     "metadata": {},
     "output_type": "execute_result"
    }
   ],
   "source": [
    "array_2d = integers.reshape(4,3)\n",
    "array_2d"
   ]
  },
  {
   "cell_type": "code",
   "execution_count": 14,
   "id": "6296f4d1",
   "metadata": {},
   "outputs": [
    {
     "data": {
      "text/plain": [
       "array([[3, 4, 5]])"
      ]
     },
     "execution_count": 14,
     "metadata": {},
     "output_type": "execute_result"
    }
   ],
   "source": [
    "array_2d[1:2,:]"
   ]
  },
  {
   "cell_type": "code",
   "execution_count": 15,
   "id": "2c07e9ac",
   "metadata": {},
   "outputs": [
    {
     "data": {
      "text/plain": [
       "array([[ 1],\n",
       "       [ 4],\n",
       "       [ 7],\n",
       "       [10]])"
      ]
     },
     "execution_count": 15,
     "metadata": {},
     "output_type": "execute_result"
    }
   ],
   "source": [
    "array_2d[:,1:2]"
   ]
  },
  {
   "cell_type": "code",
   "execution_count": 16,
   "id": "3bb83ce5",
   "metadata": {},
   "outputs": [
    {
     "data": {
      "text/plain": [
       "(0, 4, 8)"
      ]
     },
     "execution_count": 16,
     "metadata": {},
     "output_type": "execute_result"
    }
   ],
   "source": [
    "#extract diagonal elements\n",
    "array_2d[0,0],array_2d[1,1],array_2d[2,2]"
   ]
  },
  {
   "cell_type": "code",
   "execution_count": 17,
   "id": "b40a937c",
   "metadata": {},
   "outputs": [
    {
     "data": {
      "text/plain": [
       "array([[0.24742606, 0.09299006, 0.61176337],\n",
       "       [0.06066207, 0.66103343, 0.75515778],\n",
       "       [0.1108689 , 0.04305584, 0.41441747]])"
      ]
     },
     "execution_count": 17,
     "metadata": {},
     "output_type": "execute_result"
    }
   ],
   "source": [
    "rng = default_rng(2022)\n",
    "test = rng.random(9).reshape(3,3)\n",
    "test"
   ]
  },
  {
   "cell_type": "code",
   "execution_count": 18,
   "id": "36864ee3",
   "metadata": {},
   "outputs": [
    {
     "data": {
      "text/plain": [
       "array([[0.24742606, 0.09299006, 0.61176337],\n",
       "       [0.06066207, 0.66103343, 0.75515778]])"
      ]
     },
     "execution_count": 18,
     "metadata": {},
     "output_type": "execute_result"
    }
   ],
   "source": [
    "# grab first 2 rows\n",
    "test[:2]"
   ]
  },
  {
   "cell_type": "code",
   "execution_count": 19,
   "id": "0e1e4a55",
   "metadata": {},
   "outputs": [
    {
     "data": {
      "text/plain": [
       "array([[0.24742606],\n",
       "       [0.06066207],\n",
       "       [0.1108689 ]])"
      ]
     },
     "execution_count": 19,
     "metadata": {},
     "output_type": "execute_result"
    }
   ],
   "source": [
    "# grab first column\n",
    "test[:, 0:1]"
   ]
  },
  {
   "cell_type": "code",
   "execution_count": 20,
   "id": "bbaafbbf",
   "metadata": {},
   "outputs": [
    {
     "data": {
      "text/plain": [
       "0.04305584439252108"
      ]
     },
     "execution_count": 20,
     "metadata": {},
     "output_type": "execute_result"
    }
   ],
   "source": [
    "# second ele of third row\n",
    "test[2,1]"
   ]
  },
  {
   "cell_type": "markdown",
   "id": "d12b0dce",
   "metadata": {},
   "source": [
    "### 2. Arithmetic operations"
   ]
  },
  {
   "cell_type": "code",
   "execution_count": 21,
   "id": "d5593fb4",
   "metadata": {},
   "outputs": [
    {
     "data": {
      "text/plain": [
       "array([13, 70, 66, 37, 11, 46, 80, 64, 90, 28], dtype=int64)"
      ]
     },
     "execution_count": 21,
     "metadata": {},
     "output_type": "execute_result"
    }
   ],
   "source": [
    "rng = default_rng(909)\n",
    "inventory = rng.integers(10,100,10)\n",
    "inventory"
   ]
  },
  {
   "cell_type": "code",
   "execution_count": 22,
   "id": "391e5c05",
   "metadata": {},
   "outputs": [
    {
     "data": {
      "text/plain": [
       "array([15, 72, 68, 39, 13, 48, 82, 66, 92, 30], dtype=int64)"
      ]
     },
     "execution_count": 22,
     "metadata": {},
     "output_type": "execute_result"
    }
   ],
   "source": [
    "inventory + 2"
   ]
  },
  {
   "cell_type": "code",
   "execution_count": 23,
   "id": "cabf181f",
   "metadata": {},
   "outputs": [
    {
     "data": {
      "text/plain": [
       "[13, 70, 66, 37, 11, 46, 80, 64, 90, 28]"
      ]
     },
     "execution_count": 23,
     "metadata": {},
     "output_type": "execute_result"
    }
   ],
   "source": [
    "lists = list(inventory)\n",
    "lists"
   ]
  },
  {
   "cell_type": "code",
   "execution_count": 24,
   "id": "91481502",
   "metadata": {},
   "outputs": [
    {
     "data": {
      "text/plain": [
       "[15, 72, 68, 39, 13, 48, 82, 66, 92, 30]"
      ]
     },
     "execution_count": 24,
     "metadata": {},
     "output_type": "execute_result"
    }
   ],
   "source": [
    "new_list = (x + 2 for x in lists)\n",
    "list(new_list)\n"
   ]
  },
  {
   "cell_type": "code",
   "execution_count": 25,
   "id": "8a17f56c",
   "metadata": {},
   "outputs": [
    {
     "name": "stdout",
     "output_type": "stream",
     "text": [
      "[15, 72, 68, 39, 13, 48, 82, 66, 92, 30]\n"
     ]
    }
   ],
   "source": [
    "new = []\n",
    "for x in lists:\n",
    "    new.append(x+2)\n",
    "print(new)"
   ]
  },
  {
   "cell_type": "code",
   "execution_count": 26,
   "id": "ffbca8e0",
   "metadata": {},
   "outputs": [
    {
     "data": {
      "text/plain": [
       "array([9.01, 3.08, 3.6 , 6.76, 1.6 , 9.26, 8.98, 0.52, 1.72, 1.  ])"
      ]
     },
     "execution_count": 26,
     "metadata": {},
     "output_type": "execute_result"
    }
   ],
   "source": [
    "price = (rng.random(10)*10).round(2)\n",
    "price"
   ]
  },
  {
   "cell_type": "code",
   "execution_count": 27,
   "id": "939cb682",
   "metadata": {},
   "outputs": [
    {
     "data": {
      "text/plain": [
       "2198.4900000000002"
      ]
     },
     "execution_count": 27,
     "metadata": {},
     "output_type": "execute_result"
    }
   ],
   "source": [
    "(price * inventory).sum()"
   ]
  },
  {
   "cell_type": "code",
   "execution_count": 28,
   "id": "bc972a9b",
   "metadata": {},
   "outputs": [
    {
     "data": {
      "text/plain": [
       "array([ 5.99,  6.99, 22.49, 99.99,  4.99, 49.99])"
      ]
     },
     "execution_count": 28,
     "metadata": {},
     "output_type": "execute_result"
    }
   ],
   "source": [
    "prices = np.array([5.99, 6.99, 22.49 ,99.99, 4.99, 49.99])\n",
    "prices"
   ]
  },
  {
   "cell_type": "code",
   "execution_count": 29,
   "id": "3ff57f64",
   "metadata": {},
   "outputs": [
    {
     "data": {
      "text/plain": [
       "array([ 10.99,  11.99,  27.49, 104.99,   9.99,  54.99])"
      ]
     },
     "execution_count": 29,
     "metadata": {},
     "output_type": "execute_result"
    }
   ],
   "source": [
    "total = prices + 5\n",
    "total"
   ]
  },
  {
   "cell_type": "code",
   "execution_count": 30,
   "id": "db31bd77",
   "metadata": {},
   "outputs": [
    {
     "data": {
      "text/plain": [
       "array([[0.24742606, 0.09299006, 0.61176337],\n",
       "       [0.06066207, 0.66103343, 0.75515778],\n",
       "       [0.1108689 , 0.04305584, 0.41441747]])"
      ]
     },
     "execution_count": 30,
     "metadata": {},
     "output_type": "execute_result"
    }
   ],
   "source": [
    "rng = default_rng(2022)\n",
    "test = rng.random(9).reshape(3,3)\n",
    "test"
   ]
  },
  {
   "cell_type": "code",
   "execution_count": 31,
   "id": "b858964e",
   "metadata": {},
   "outputs": [
    {
     "name": "stdout",
     "output_type": "stream",
     "text": [
      "[0.75257394 0.90700994 0.38823663 0.93933793 0.33896657 0.24484222]\n"
     ]
    }
   ],
   "source": [
    "discount_pc= test[0:2,]\n",
    "final = 1- discount_pc\n",
    "fen = final.reshape(6)\n",
    "print(fen)\n",
    "#fin = final.flatten() "
   ]
  },
  {
   "cell_type": "code",
   "execution_count": 32,
   "id": "60bd8ef4",
   "metadata": {},
   "outputs": [
    {
     "data": {
      "text/plain": [
       "array([ 8.27, 10.88, 10.67, 98.62,  3.39, 13.46])"
      ]
     },
     "execution_count": 32,
     "metadata": {},
     "output_type": "execute_result"
    }
   ],
   "source": [
    "(total * fen).round(2)"
   ]
  },
  {
   "cell_type": "code",
   "execution_count": null,
   "id": "c977be5f",
   "metadata": {},
   "outputs": [],
   "source": []
  }
 ],
 "metadata": {
  "kernelspec": {
   "display_name": "Python 3 (ipykernel)",
   "language": "python",
   "name": "python3"
  },
  "language_info": {
   "codemirror_mode": {
    "name": "ipython",
    "version": 3
   },
   "file_extension": ".py",
   "mimetype": "text/x-python",
   "name": "python",
   "nbconvert_exporter": "python",
   "pygments_lexer": "ipython3",
   "version": "3.11.5"
  }
 },
 "nbformat": 4,
 "nbformat_minor": 5
}
