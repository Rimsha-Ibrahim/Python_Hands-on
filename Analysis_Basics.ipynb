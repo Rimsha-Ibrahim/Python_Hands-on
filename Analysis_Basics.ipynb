{
 "cells": [
  {
   "cell_type": "markdown",
   "id": "cad6fac0",
   "metadata": {},
   "source": [
    "#### Analysis heirarchy\n",
    "1. Import CSV file\n",
    "2. Retain only 1000 rows\n",
    "3. Extract 2 columns\n",
    "4. Filter out over \"produce\" family.\n",
    "5. Generate random numbers same of filtered length.\n",
    "6. Obtain mean, median."
   ]
  },
  {
   "cell_type": "code",
   "execution_count": 2,
   "id": "1ecde354",
   "metadata": {},
   "outputs": [],
   "source": [
    "import numpy as np\n",
    "import pandas as pd\n"
   ]
  },
  {
   "cell_type": "code",
   "execution_count": null,
   "id": "ee62b269",
   "metadata": {},
   "outputs": [],
   "source": []
  }
 ],
 "metadata": {
  "kernelspec": {
   "display_name": "Python 3 (ipykernel)",
   "language": "python",
   "name": "python3"
  },
  "language_info": {
   "codemirror_mode": {
    "name": "ipython",
    "version": 3
   },
   "file_extension": ".py",
   "mimetype": "text/x-python",
   "name": "python",
   "nbconvert_exporter": "python",
   "pygments_lexer": "ipython3",
   "version": "3.11.5"
  }
 },
 "nbformat": 4,
 "nbformat_minor": 5
}
