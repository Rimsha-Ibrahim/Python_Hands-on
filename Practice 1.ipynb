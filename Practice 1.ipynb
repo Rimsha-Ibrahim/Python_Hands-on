{
 "cells": [
  {
   "cell_type": "code",
   "execution_count": 5,
   "id": "567cf1d6",
   "metadata": {},
   "outputs": [
    {
     "name": "stdout",
     "output_type": "stream",
     "text": [
      "40000 2 12000\n"
     ]
    }
   ],
   "source": [
    "inp=input()\n"
   ]
  },
  {
   "cell_type": "code",
   "execution_count": 7,
   "id": "3777f567",
   "metadata": {},
   "outputs": [],
   "source": [
    "Monthly_rent= 40000\n",
    "Vacant_months = 2\n",
    "Annual_expenses = 12000\n"
   ]
  },
  {
   "cell_type": "code",
   "execution_count": 9,
   "id": "0012dcb3",
   "metadata": {},
   "outputs": [],
   "source": [
    "rental_income = Monthly_rent*10\n"
   ]
  },
  {
   "cell_type": "code",
   "execution_count": 11,
   "id": "4937b58f",
   "metadata": {},
   "outputs": [
    {
     "name": "stdout",
     "output_type": "stream",
     "text": [
      "Annual rent income: 388000\n"
     ]
    }
   ],
   "source": [
    "print('Annual rent income:',rental_income-Annual_expenses)"
   ]
  },
  {
   "cell_type": "code",
   "execution_count": 12,
   "id": "53126d1b",
   "metadata": {},
   "outputs": [
    {
     "name": "stdout",
     "output_type": "stream",
     "text": [
      "Fixed Charges:120\n",
      "Units:90\n",
      "rates:6\n"
     ]
    }
   ],
   "source": [
    "inp= int(input('Fixed Charges:'))\n",
    "inp2= int(input('Units:'))\n",
    "inp3= int(input('rates:'))"
   ]
  },
  {
   "cell_type": "code",
   "execution_count": 18,
   "id": "598130ce",
   "metadata": {},
   "outputs": [
    {
     "name": "stdout",
     "output_type": "stream",
     "text": [
      "Amount on Units: 540\n",
      "Fixed Charges: 120\n",
      "Total Amount: 660\n"
     ]
    }
   ],
   "source": [
    "print('Amount on Units:',90*6)\n",
    "print('Fixed Charges:',inp)\n",
    "print('Total Amount:',(90*6)+inp)"
   ]
  },
  {
   "cell_type": "markdown",
   "id": "07acffe5",
   "metadata": {},
   "source": [
    "### Problem 3: Distance Formula"
   ]
  },
  {
   "cell_type": "code",
   "execution_count": 32,
   "id": "18c8231e",
   "metadata": {},
   "outputs": [
    {
     "name": "stdout",
     "output_type": "stream",
     "text": [
      "x1:2\n",
      "x2:5\n",
      "y1:3\n",
      "y2:6\n"
     ]
    }
   ],
   "source": [
    "inp= int(input(\"x1:\"))\n",
    "inp2= int(input('x2:'))\n",
    "inp3= int(input('y1:'))\n",
    "inp4= int(input('y2:'))"
   ]
  },
  {
   "cell_type": "code",
   "execution_count": 37,
   "id": "77b1720a",
   "metadata": {},
   "outputs": [
    {
     "data": {
      "text/plain": [
       "9"
      ]
     },
     "execution_count": 37,
     "metadata": {},
     "output_type": "execute_result"
    }
   ],
   "source": [
    "sub1= (inp2-inp)**2\n",
    "sub1"
   ]
  },
  {
   "cell_type": "code",
   "execution_count": 38,
   "id": "261d52ab",
   "metadata": {},
   "outputs": [
    {
     "data": {
      "text/plain": [
       "9"
      ]
     },
     "execution_count": 38,
     "metadata": {},
     "output_type": "execute_result"
    }
   ],
   "source": [
    "sub2= (inp4-inp3)**2\n",
    "sub2"
   ]
  },
  {
   "cell_type": "code",
   "execution_count": 40,
   "id": "c0bf4d61",
   "metadata": {},
   "outputs": [
    {
     "data": {
      "text/plain": [
       "4.242640687119285"
      ]
     },
     "execution_count": 40,
     "metadata": {},
     "output_type": "execute_result"
    }
   ],
   "source": [
    "dis= (sub1 + sub2)**0.5\n",
    "dis"
   ]
  },
  {
   "cell_type": "code",
   "execution_count": 43,
   "id": "697a15d2",
   "metadata": {},
   "outputs": [
    {
     "name": "stdout",
     "output_type": "stream",
     "text": [
      "4\n"
     ]
    }
   ],
   "source": [
    "print(int(dis))"
   ]
  },
  {
   "cell_type": "code",
   "execution_count": 45,
   "id": "48607cc9",
   "metadata": {},
   "outputs": [
    {
     "name": "stdout",
     "output_type": "stream",
     "text": [
      "4\n",
      "6\n"
     ]
    }
   ],
   "source": [
    "length= int(input())\n",
    "width= int(input())\n",
    "area= length*width\n",
    "perimeter= 2*(length+width)"
   ]
  },
  {
   "cell_type": "code",
   "execution_count": 47,
   "id": "2f79109b",
   "metadata": {},
   "outputs": [
    {
     "name": "stdout",
     "output_type": "stream",
     "text": [
      "Area: 24\n",
      "Perimeter: 20\n"
     ]
    }
   ],
   "source": [
    "print('Area:',area)\n",
    "print('Perimeter:',perimeter)"
   ]
  },
  {
   "cell_type": "code",
   "execution_count": 52,
   "id": "55b477e0",
   "metadata": {},
   "outputs": [
    {
     "name": "stdout",
     "output_type": "stream",
     "text": [
      "5.75\n",
      "Square: 33.0625\n"
     ]
    }
   ],
   "source": [
    "n= float(input())\n",
    "print('Square:',n**2)"
   ]
  },
  {
   "cell_type": "code",
   "execution_count": 53,
   "id": "afddca5c",
   "metadata": {},
   "outputs": [
    {
     "name": "stdout",
     "output_type": "stream",
     "text": [
      "50.25\n",
      "1.5\n",
      "65\n",
      "14.75\n"
     ]
    }
   ],
   "source": [
    "n1= float(input())\n",
    "n2= float(input())\n",
    "n3= float(input())\n"
   ]
  },
  {
   "cell_type": "code",
   "execution_count": 54,
   "id": "4478f557",
   "metadata": {},
   "outputs": [
    {
     "name": "stdout",
     "output_type": "stream",
     "text": [
      "13.25\n"
     ]
    }
   ],
   "source": [
    "n4= n1+n2\n",
    "print(n3-n4)"
   ]
  },
  {
   "cell_type": "code",
   "execution_count": 55,
   "id": "bf751c6d",
   "metadata": {},
   "outputs": [
    {
     "name": "stdout",
     "output_type": "stream",
     "text": [
      "50.25\n",
      "40.5\n",
      "50.75\n",
      "39.75\n"
     ]
    }
   ],
   "source": [
    "i_23= float(input())\n",
    "j_23= float(input())\n",
    "i_24= float(input())\n",
    "j_24= float(input())\n"
   ]
  },
  {
   "cell_type": "code",
   "execution_count": 78,
   "id": "8d048f94",
   "metadata": {},
   "outputs": [
    {
     "data": {
      "text/plain": [
       "-0.25"
      ]
     },
     "execution_count": 78,
     "metadata": {},
     "output_type": "execute_result"
    }
   ],
   "source": [
    "p= i_24 - i_23\n",
    "y=j_24 - j_23\n",
    "p+y"
   ]
  },
  {
   "cell_type": "code",
   "execution_count": 75,
   "id": "88e38ef3",
   "metadata": {},
   "outputs": [
    {
     "data": {
      "text/plain": [
       "-0.75"
      ]
     },
     "execution_count": 75,
     "metadata": {},
     "output_type": "execute_result"
    }
   ],
   "source": [
    "y"
   ]
  },
  {
   "cell_type": "code",
   "execution_count": 73,
   "id": "5442aebd",
   "metadata": {},
   "outputs": [
    {
     "data": {
      "text/plain": [
       "0.5"
      ]
     },
     "execution_count": 73,
     "metadata": {},
     "output_type": "execute_result"
    }
   ],
   "source": [
    "p"
   ]
  },
  {
   "cell_type": "markdown",
   "id": "d411cd60",
   "metadata": {},
   "source": [
    "### Change per year"
   ]
  },
  {
   "cell_type": "code",
   "execution_count": 95,
   "id": "5dee51ef",
   "metadata": {},
   "outputs": [
    {
     "name": "stdout",
     "output_type": "stream",
     "text": [
      "100\n",
      "120\n",
      "142\n"
     ]
    }
   ],
   "source": [
    "x1 = float(input())\n",
    "x2 = float(input())\n",
    "x3 = float(input())\n",
    "y1 = x2-x1\n",
    "y2 = x3-x2\n",
    "p1= (y1*100)/x1\n",
    "p2= (y2*100)/x2"
   ]
  },
  {
   "cell_type": "code",
   "execution_count": 96,
   "id": "1a47c444",
   "metadata": {},
   "outputs": [
    {
     "name": "stdout",
     "output_type": "stream",
     "text": [
      "Difference Second Year: 20.0\n",
      "Difference Third Year: 22.0\n",
      "Percentage Difference Second Year: 20.0\n",
      "Percentage Difference Third Year 18.333333333333332\n"
     ]
    }
   ],
   "source": [
    "print(\"Difference Second Year:\",y1)\n",
    "print(\"Difference Third Year:\", y2)\n",
    "print(\"Percentage Difference Second Year:\",p1)\n",
    "print(\"Percentage Difference Third Year\", p2)"
   ]
  },
  {
   "cell_type": "code",
   "execution_count": 90,
   "id": "0da835f3",
   "metadata": {},
   "outputs": [],
   "source": [
    "p2= (y2*100)/x2"
   ]
  },
  {
   "cell_type": "code",
   "execution_count": 91,
   "id": "2f6c2a73",
   "metadata": {},
   "outputs": [
    {
     "data": {
      "text/plain": [
       "18.333333333333332"
      ]
     },
     "execution_count": 91,
     "metadata": {},
     "output_type": "execute_result"
    }
   ],
   "source": [
    "p2"
   ]
  },
  {
   "cell_type": "code",
   "execution_count": 92,
   "id": "a91606f9",
   "metadata": {},
   "outputs": [
    {
     "data": {
      "text/plain": [
       "22.0"
      ]
     },
     "execution_count": 92,
     "metadata": {},
     "output_type": "execute_result"
    }
   ],
   "source": [
    "y2"
   ]
  },
  {
   "cell_type": "code",
   "execution_count": 97,
   "id": "0cbfd17c",
   "metadata": {},
   "outputs": [
    {
     "name": "stdout",
     "output_type": "stream",
     "text": [
      "80\n",
      "90\n",
      "60\n",
      "84\n",
      "40\n",
      "90\n",
      "95\n",
      "70\n"
     ]
    }
   ],
   "source": [
    "x1= int(input())\n",
    "x2= int(input())\n",
    "x3= int(input())\n",
    "x4= int(input())\n",
    "x5= int(input())\n",
    "x6= int(input())\n",
    "x7= int(input())\n",
    "x8= int(input())\n",
    "total = x1+x2+x3+x4+x5+x6+x7+x8"
   ]
  },
  {
   "cell_type": "code",
   "execution_count": 98,
   "id": "8dd46792",
   "metadata": {},
   "outputs": [
    {
     "name": "stdout",
     "output_type": "stream",
     "text": [
      "Eng: 80 100\n",
      "Urdu: 90 100\n",
      "Drawing: 60 75\n",
      "Math : 84 100\n",
      "Sci: 40 75\n",
      "SST: 90 100\n",
      "History : 95 100\n",
      "Phy.Edu: 70 100\n",
      "Total: 609\n"
     ]
    }
   ],
   "source": [
    "print('Eng:', x1, 100)\n",
    "print('Urdu:', x2, 100)\n",
    "print('Drawing:', x3,75)\n",
    "print('Math :', x4, 100)\n",
    "print('Sci:', x5, 75)\n",
    "print('SST:', x6,100)\n",
    "print('History :', x7, 100)\n",
    "print('Phy.Edu:', x8, 100)\n",
    "print('Total:', total)"
   ]
  },
  {
   "cell_type": "code",
   "execution_count": 106,
   "id": "956784dc",
   "metadata": {},
   "outputs": [
    {
     "name": "stdout",
     "output_type": "stream",
     "text": [
      "6 8 5000\n"
     ]
    }
   ],
   "source": [
    "z1,z2,z3= map(int, input().split())"
   ]
  },
  {
   "cell_type": "code",
   "execution_count": 109,
   "id": "5fbb27f6",
   "metadata": {},
   "outputs": [
    {
     "ename": "SyntaxError",
     "evalue": "invalid syntax (2220118012.py, line 1)",
     "output_type": "error",
     "traceback": [
      "\u001b[1;36m  Cell \u001b[1;32mIn[109], line 1\u001b[1;36m\u001b[0m\n\u001b[1;33m    z1'*'+z2+'*'+z3\u001b[0m\n\u001b[1;37m      ^\u001b[0m\n\u001b[1;31mSyntaxError\u001b[0m\u001b[1;31m:\u001b[0m invalid syntax\n"
     ]
    }
   ],
   "source": [
    "z1'*'+z2+'*'+z3\n"
   ]
  },
  {
   "cell_type": "code",
   "execution_count": 115,
   "id": "5e1995b0",
   "metadata": {},
   "outputs": [
    {
     "data": {
      "text/plain": [
       "'6*8*5000'"
      ]
     },
     "execution_count": 115,
     "metadata": {},
     "output_type": "execute_result"
    }
   ],
   "source": [
    "str(z1)+ '*'+str(z2)+'*'+str(z3)"
   ]
  },
  {
   "cell_type": "code",
   "execution_count": 119,
   "id": "e5112714",
   "metadata": {},
   "outputs": [
    {
     "name": "stdout",
     "output_type": "stream",
     "text": [
      "6 8\n",
      "Numerator: 14\n",
      "Denominator: 48\n"
     ]
    }
   ],
   "source": [
    "p1,p2= map(int, input().split())\n",
    "print('Numerator:',p1+p2)\n",
    "print('Denominator:', p1*p2)"
   ]
  },
  {
   "cell_type": "code",
   "execution_count": 123,
   "id": "75e2fd64",
   "metadata": {},
   "outputs": [
    {
     "data": {
      "text/plain": [
       "0"
      ]
     },
     "execution_count": 123,
     "metadata": {},
     "output_type": "execute_result"
    }
   ],
   "source": [
    "(1//p1) + (1//p2)"
   ]
  },
  {
   "cell_type": "code",
   "execution_count": 125,
   "id": "57d59b0a",
   "metadata": {},
   "outputs": [
    {
     "name": "stdout",
     "output_type": "stream",
     "text": [
      "220 22 200\n",
      "Total Amount: 5040\n"
     ]
    }
   ],
   "source": [
    "Units, Rates, Charges= map(int, input().split())\n",
    "Bill=  Units*Rates\n",
    "print('Total Amount:',Bill+Charges)"
   ]
  },
  {
   "cell_type": "code",
   "execution_count": 2,
   "id": "c2a5d4d4",
   "metadata": {},
   "outputs": [
    {
     "name": "stdout",
     "output_type": "stream",
     "text": [
      "80 5 10\n",
      "120 3 5 \n",
      "70 5 0\n"
     ]
    }
   ],
   "source": [
    "p1,q1,d1= map(int, input().split())\n",
    "p2,q2,d2= map(int, input().split())\n",
    "p3,q3,d3= map(int, input().split())"
   ]
  },
  {
   "cell_type": "code",
   "execution_count": 128,
   "id": "749ce12c",
   "metadata": {},
   "outputs": [
    {
     "name": "stdout",
     "output_type": "stream",
     "text": [
      "2\n"
     ]
    },
    {
     "data": {
      "text/plain": [
       "2.0"
      ]
     },
     "execution_count": 128,
     "metadata": {},
     "output_type": "execute_result"
    }
   ],
   "source": [
    "c_d=float(input())\n",
    "c_d"
   ]
  },
  {
   "cell_type": "code",
   "execution_count": 4,
   "id": "eae8d673",
   "metadata": {},
   "outputs": [
    {
     "name": "stdout",
     "output_type": "stream",
     "text": [
      "400\n",
      "360\n",
      "350\n"
     ]
    }
   ],
   "source": [
    "t1=p1*q1\n",
    "t2=p2*q2\n",
    "t3=p3*q3\n",
    "print(t1)\n",
    "print(t2)\n",
    "print(t3)\n",
    " "
   ]
  },
  {
   "cell_type": "code",
   "execution_count": 7,
   "id": "dfcce879",
   "metadata": {},
   "outputs": [
    {
     "name": "stdout",
     "output_type": "stream",
     "text": [
      "40.0\n",
      "18.0\n",
      "350\n"
     ]
    }
   ],
   "source": [
    "t1_d= t1*0.10\n",
    "t2_d= t2*0.05\n",
    "t3_d= t3\n",
    "print(t1_d)\n",
    "print(t2_d)\n",
    "print(t3_d)"
   ]
  },
  {
   "cell_type": "code",
   "execution_count": 9,
   "id": "0d0ccbe9",
   "metadata": {},
   "outputs": [
    {
     "name": "stdout",
     "output_type": "stream",
     "text": [
      "Item 1: 360.0\n",
      "Item 2: 342.0\n",
      "Item 3: 350\n"
     ]
    }
   ],
   "source": [
    "p1_d=t1-t1_d\n",
    "p2_d=t2-t2_d\n",
    "p3_d=t3_d\n",
    "print(\"Item 1:\",p1_d)\n",
    "print(\"Item 2:\",p2_d)\n",
    "print(\"Item 3:\",p3_d)\n"
   ]
  },
  {
   "cell_type": "code",
   "execution_count": 11,
   "id": "9c1328a8",
   "metadata": {},
   "outputs": [
    {
     "name": "stdout",
     "output_type": "stream",
     "text": [
      "Total Amount: 1052.0\n",
      "Cash Discount: 21.04\n",
      "Net Amount: 1030.96\n"
     ]
    }
   ],
   "source": [
    "total = p1_d+p2_d+p3_d\n",
    "dis= total*0.02\n",
    "print('Total Amount:',total)\n",
    "print('Cash Discount:',dis)\n",
    "print(\"Net Amount:\", total-dis)"
   ]
  },
  {
   "cell_type": "code",
   "execution_count": 15,
   "id": "6607bfb3",
   "metadata": {},
   "outputs": [
    {
     "name": "stdout",
     "output_type": "stream",
     "text": [
      "{'num1': 1, 'num2': 2, 'operation': 'sum'}\n"
     ]
    },
    {
     "ename": "NameError",
     "evalue": "name 'num1' is not defined",
     "output_type": "error",
     "traceback": [
      "\u001b[1;31m---------------------------------------------------------------------------\u001b[0m",
      "\u001b[1;31mNameError\u001b[0m                                 Traceback (most recent call last)",
      "Cell \u001b[1;32mIn[15], line 4\u001b[0m\n\u001b[0;32m      2\u001b[0m     \u001b[38;5;28mprint\u001b[39m(\u001b[38;5;28mlocals\u001b[39m())\n\u001b[0;32m      3\u001b[0m performs(\u001b[38;5;241m1\u001b[39m,\u001b[38;5;241m2\u001b[39m,operation\u001b[38;5;241m=\u001b[39m \u001b[38;5;124m\"\u001b[39m\u001b[38;5;124msum\u001b[39m\u001b[38;5;124m\"\u001b[39m)\n\u001b[1;32m----> 4\u001b[0m \u001b[38;5;28mprint\u001b[39m(num1)\n",
      "\u001b[1;31mNameError\u001b[0m: name 'num1' is not defined"
     ]
    }
   ],
   "source": [
    "def performs(num1, num2, operation= \"sum\"):\n",
    "    print(locals())\n",
    "performs(1,2,operation= \"sum\")\n",
    "print(num1)"
   ]
  },
  {
   "cell_type": "code",
   "execution_count": 62,
   "id": "c1068df9",
   "metadata": {},
   "outputs": [],
   "source": [
    "rimsha = '''\n",
    "Rimsha is a good girl, because she wakes up early in the morning. \n",
    "Rimsha's mother is very possesive in regards of that she is\n",
    "an innocent person. Her mom says she is very beautiful and great.\n",
    "ok!\n",
    "\n",
    "'''"
   ]
  },
  {
   "cell_type": "code",
   "execution_count": 51,
   "id": "93f28edb",
   "metadata": {},
   "outputs": [
    {
     "name": "stdout",
     "output_type": "stream",
     "text": [
      "\n",
      "rimsha is a good girl, because she wakes up early in the morning. \n",
      "rimsha's mother is very possesive in regards of that she is\n",
      "an innocent person. her mom says she is very beautiful and great.\n",
      "ok!\n",
      "\n",
      "\n"
     ]
    }
   ],
   "source": [
    "def lowers(x):\n",
    "    return rimsha.lower()\n",
    "print(lowers(rimsha))    "
   ]
  },
  {
   "cell_type": "code",
   "execution_count": 60,
   "id": "90916ed8",
   "metadata": {},
   "outputs": [
    {
     "name": "stdout",
     "output_type": "stream",
     "text": [
      "Hello  World \n"
     ]
    }
   ],
   "source": [
    "def removes(rimsha):\n",
    "    punc= [\" '\", \"!\", \",\"]\n",
    "    for i in punc:\n",
    "        rimsha= rimsha.replace(i, \" \")\n",
    "    return rimsha\n",
    "print(removes(rimsha))"
   ]
  },
  {
   "cell_type": "code",
   "execution_count": 58,
   "id": "bf1ea454",
   "metadata": {},
   "outputs": [
    {
     "name": "stdout",
     "output_type": "stream",
     "text": [
      "Hello  it s nice \n"
     ]
    }
   ],
   "source": [
    "def removes(rimsha):\n",
    "    punc = [\"'\", \"!\", \",\"]\n",
    "    for i in punc:\n",
    "        rimsha = rimsha.replace(i, \" \")  # Use 'i' instead of 'punc'\n",
    "    return rimsha  # Return after the loop finishes\n",
    "\n",
    "# Example usage\n",
    "rimsha = \"Hello, it's nice!\"\n",
    "print(removes(rimsha))\n"
   ]
  },
  {
   "cell_type": "code",
   "execution_count": 63,
   "id": "65a8572e",
   "metadata": {},
   "outputs": [
    {
     "data": {
      "text/plain": [
       "\"\\nRimsha is a good girl, because she wakes up early in the morning. \\nRimsha's mother is very possesive in regards of that she is\\nan innocent person. Her mom says she is very beautiful and great.\\nok!\\n\\n\""
      ]
     },
     "execution_count": 63,
     "metadata": {},
     "output_type": "execute_result"
    }
   ],
   "source": [
    "rimsha"
   ]
  },
  {
   "cell_type": "code",
   "execution_count": 64,
   "id": "10672f13",
   "metadata": {},
   "outputs": [
    {
     "name": "stdout",
     "output_type": "stream",
     "text": [
      " Rimsha is a good girl, because she wakes up early in the morning.  Rimsha's mother is very possesive in regards of that she is an innocent person. Her mom says she is very beautiful and great. ok!  \n"
     ]
    }
   ],
   "source": [
    "def newline(rimsha):\n",
    "    rimsha = rimsha.replace('\\n',\" \")\n",
    "    return rimsha\n",
    "print(newline(rimsha))"
   ]
  },
  {
   "cell_type": "code",
   "execution_count": 66,
   "id": "00405c79",
   "metadata": {},
   "outputs": [],
   "source": [
    "def removeshortwords(text, min_length=3):\n",
    "    words = text.split()  # Split the text into a list of words\n",
    "    long_words = [word for word in words if len(word) >= min_length]  # Filter out short words\n",
    "    return \" \".join(long_words)  # Join the remaining words back into a string\n"
   ]
  },
  {
   "cell_type": "code",
   "execution_count": 68,
   "id": "4664876c",
   "metadata": {},
   "outputs": [
    {
     "name": "stdout",
     "output_type": "stream",
     "text": [
      "Rimsha name\n"
     ]
    }
   ],
   "source": [
    "text = \"Rimsha is my name\"\n",
    "result = removeshortwords(text)\n",
    "print(result)  # Output: \"learning Python programming\"\n"
   ]
  },
  {
   "cell_type": "code",
   "execution_count": 74,
   "id": "6933cb9c",
   "metadata": {},
   "outputs": [],
   "source": [
    "texts= text.split()"
   ]
  },
  {
   "cell_type": "code",
   "execution_count": 80,
   "id": "20783811",
   "metadata": {},
   "outputs": [
    {
     "name": "stdout",
     "output_type": "stream",
     "text": [
      "Rimsha\n",
      "name\n"
     ]
    }
   ],
   "source": [
    "for i in texts:\n",
    "    if len(i) >=3:\n",
    "        print(i)"
   ]
  },
  {
   "cell_type": "code",
   "execution_count": 84,
   "id": "f5998b8a",
   "metadata": {},
   "outputs": [],
   "source": [
    "word = [i for i in texts if len(i) >=3]"
   ]
  },
  {
   "cell_type": "code",
   "execution_count": 85,
   "id": "21350c97",
   "metadata": {},
   "outputs": [
    {
     "data": {
      "text/plain": [
       "['Rimsha', 'name']"
      ]
     },
     "execution_count": 85,
     "metadata": {},
     "output_type": "execute_result"
    }
   ],
   "source": [
    "word"
   ]
  },
  {
   "cell_type": "code",
   "execution_count": 89,
   "id": "4505d672",
   "metadata": {},
   "outputs": [],
   "source": [
    "nexts = ' '.join(word)"
   ]
  },
  {
   "cell_type": "code",
   "execution_count": 90,
   "id": "7f5a2e58",
   "metadata": {},
   "outputs": [
    {
     "data": {
      "text/plain": [
       "'Rimsha name'"
      ]
     },
     "execution_count": 90,
     "metadata": {},
     "output_type": "execute_result"
    }
   ],
   "source": [
    "nexts"
   ]
  },
  {
   "cell_type": "code",
   "execution_count": null,
   "id": "66b20e9c",
   "metadata": {},
   "outputs": [],
   "source": [
    "\n"
   ]
  }
 ],
 "metadata": {
  "kernelspec": {
   "display_name": "Python 3 (ipykernel)",
   "language": "python",
   "name": "python3"
  },
  "language_info": {
   "codemirror_mode": {
    "name": "ipython",
    "version": 3
   },
   "file_extension": ".py",
   "mimetype": "text/x-python",
   "name": "python",
   "nbconvert_exporter": "python",
   "pygments_lexer": "ipython3",
   "version": "3.11.5"
  }
 },
 "nbformat": 4,
 "nbformat_minor": 5
}
